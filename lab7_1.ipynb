{
  "nbformat": 4,
  "nbformat_minor": 0,
  "metadata": {
    "colab": {
      "name": "test 7.1 pytorch tasks.ipynb",
      "provenance": []
    },
    "kernelspec": {
      "display_name": "Python 3",
      "language": "python",
      "name": "python3"
    },
    "language_info": {
      "codemirror_mode": {
        "name": "ipython",
        "version": 3
      },
      "file_extension": ".py",
      "mimetype": "text/x-python",
      "name": "python",
      "nbconvert_exporter": "python",
      "pygments_lexer": "ipython3",
      "version": "3.6.5"
    },
    "accelerator": "GPU"
  },
  "cells": [
    {
      "cell_type": "markdown",
      "metadata": {
        "id": "vcnGdgw_YJ8u"
      },
      "source": [
        "# PyTorch. Основы: синтаксис, torch.cuda и torch.autograd\n",
        "\n",
        "## Задание 7.1"
      ]
    },
    {
      "cell_type": "code",
      "metadata": {
        "id": "RtyozNmmYJ89"
      },
      "source": [
        "import torch\n",
        "import matplotlib.pyplot as plt"
      ],
      "execution_count": 4,
      "outputs": []
    },
    {
      "cell_type": "markdown",
      "metadata": {
        "id": "ny4-Qi2wYJ-6"
      },
      "source": [
        "### Задача 1"
      ]
    },
    {
      "cell_type": "markdown",
      "metadata": {
        "id": "IWxlFq0bYJ-_"
      },
      "source": [
        "1). Создайте два вещественных тензора: `a` размером (3, 4) и `b` размером (12,)   \n",
        "2). Создайте тензор `c`, являющийся тензором `b`, но размера (2, 2, 3)  \n",
        "3). Выведите первый столбец матрицы `a` с помощью индексации"
      ]
    },
    {
      "cell_type": "code",
      "metadata": {
        "id": "3oxZuk3yYJ_A"
      },
      "source": [
        "a = torch.FloatTensor(3, 4)\n",
        "b = torch.FloatTensor(12)"
      ],
      "execution_count": 3,
      "outputs": []
    },
    {
      "cell_type": "code",
      "source": [
        "c = b.view(2, 2, 3)"
      ],
      "metadata": {
        "id": "t-ChUGfIftoO"
      },
      "execution_count": 6,
      "outputs": []
    },
    {
      "cell_type": "code",
      "source": [
        "print(a)\n",
        "print(a[:, 0])"
      ],
      "metadata": {
        "id": "2x9FVpNzgGVO",
        "outputId": "4fe2ba39-8232-4223-d04f-454b00a9fc9b",
        "colab": {
          "base_uri": "https://localhost:8080/"
        }
      },
      "execution_count": 10,
      "outputs": [
        {
          "output_type": "stream",
          "name": "stdout",
          "text": [
            "tensor([[2.0875e-36, 3.0715e-41, 3.7835e-44, 0.0000e+00],\n",
            "        [       nan, 3.0715e-41, 1.3733e-14, 6.4069e+02],\n",
            "        [4.3066e+21, 1.1824e+22, 4.3066e+21, 6.3828e+28]])\n",
            "tensor([2.0875e-36,        nan, 4.3066e+21])\n"
          ]
        }
      ]
    },
    {
      "cell_type": "markdown",
      "metadata": {
        "id": "D2IP_FrKYKAA"
      },
      "source": [
        "### Задача 2"
      ]
    },
    {
      "cell_type": "markdown",
      "metadata": {
        "id": "tBZFbSYQYKAA"
      },
      "source": [
        "1). Создайте два вещественных тензора: `a` размером (5, 2) и `b` размером (1,10)   \n",
        "2). Создайте тензор `c`, являющийся тензором `b`, но размера (5, 2)  \n",
        "3). Произведите все арифметические операции с тензорами `a` и `c`"
      ]
    },
    {
      "cell_type": "code",
      "metadata": {
        "id": "hzs2bH3GYKAB"
      },
      "source": [
        "a = torch.FloatTensor(5, 2)\n",
        "b = torch.FloatTensor(1, 10)"
      ],
      "execution_count": 12,
      "outputs": []
    },
    {
      "cell_type": "code",
      "source": [
        "c = b.view(5, 2)"
      ],
      "metadata": {
        "id": "shKxuB3UhZS_"
      },
      "execution_count": 13,
      "outputs": []
    },
    {
      "cell_type": "code",
      "source": [
        "print(\"+\", a.add(c))\n",
        "print(\"-\", a.sub(c))\n",
        "print(\"*\", a.mul(c))\n",
        "print(\"/\", a.div(c))"
      ],
      "metadata": {
        "id": "cRN2BlTKhbxv",
        "outputId": "ac04d40e-e8b3-4008-88ea-1da1506b8ca5",
        "colab": {
          "base_uri": "https://localhost:8080/"
        }
      },
      "execution_count": 14,
      "outputs": [
        {
          "output_type": "stream",
          "name": "stdout",
          "text": [
            "+ tensor([[6.2270e-36, 6.1430e-41],\n",
            "        [6.7262e-44, 0.0000e+00],\n",
            "        [       nan, 0.0000e+00],\n",
            "        [8.9443e+21, 6.0209e+29],\n",
            "        [1.4371e+23, 1.4502e+29]])\n",
            "- tensor([[ 2.2959e-41,  0.0000e+00],\n",
            "        [ 0.0000e+00,  0.0000e+00],\n",
            "        [        nan,  0.0000e+00],\n",
            "        [ 0.0000e+00,  0.0000e+00],\n",
            "        [ 0.0000e+00, -1.2222e+27]])\n",
            "* tensor([[0., 0.],\n",
            "        [0., 0.],\n",
            "        [nan, 0.],\n",
            "        [inf, inf],\n",
            "        [inf, inf]])\n",
            "/ tensor([[1.0000, 1.0000],\n",
            "        [1.0000,    nan],\n",
            "        [   nan,    nan],\n",
            "        [1.0000, 1.0000],\n",
            "        [1.0000, 0.9833]])\n"
          ]
        }
      ]
    },
    {
      "cell_type": "markdown",
      "metadata": {
        "id": "rIaroFO6YKBT"
      },
      "source": [
        "### Задача 3"
      ]
    },
    {
      "cell_type": "markdown",
      "metadata": {
        "id": "GfLHVvKvYKBT"
      },
      "source": [
        "1). Создайте тензор *целых чисел* `images` размерности (100, 200, 200, 3) (можно интерпретировать это как 100 картинок размера 200х200 с тремя цветовыми каналами, то есть 100 цветных изображений 200х200). Заполните его нулями  \n",
        "\n",
        "2). Сделайте так, чтобы у $i$-ой по порядку картинки была нарисована белая полоса толщиной два пикселя в строках, которые соответствуют номеру картинки. Например, у 3-ей по порядку картинки белая полоска будет занимать 6 и 7 строки, у 99 - 198 и 199. Сделать белую строку можно, записав в ячейки тензора число 255 (по всем трём каналам). Выведите несколько примеров с помощью `pylot`  \n",
        "\n",
        "3). Посчитайте среднее тензора `images` по 1-ой оси (по сути - средняя картинка), умножьте полученный тензор на 70. Нарисуйте с помощью `pyplot`, должна получиться серая картинка (при взятии среднего нужно привести тензор к float с помощью `.float()`, при отрисовке обратно к int с помощью `.int()`)"
      ]
    },
    {
      "cell_type": "code",
      "metadata": {
        "id": "pZVGHEQQYKBU"
      },
      "source": [
        "images = torch.IntTensor(100, 200, 200, 3).zero_()"
      ],
      "execution_count": 36,
      "outputs": []
    },
    {
      "cell_type": "code",
      "source": [
        "# white_line = [[255, 255, 255] for _ in range(images.shape[1])]\n",
        "for i in range(images.shape[0]):\n",
        "  images[i, i*2:(i+1)*2, :, :] = 255"
      ],
      "metadata": {
        "id": "Yq6jPNzLiOZ2"
      },
      "execution_count": 37,
      "outputs": []
    },
    {
      "cell_type": "code",
      "source": [
        "images_mean = torch.mean(images.float(), 0) * 70\n",
        "# print(images_mean.int())\n",
        "plt.imshow(images_mean.int())"
      ],
      "metadata": {
        "id": "lOIp2bsYmsOb",
        "outputId": "8e59ee05-6daf-4626-eac6-c51b7c5189a2",
        "colab": {
          "base_uri": "https://localhost:8080/",
          "height": 286
        }
      },
      "execution_count": 38,
      "outputs": [
        {
          "output_type": "execute_result",
          "data": {
            "text/plain": [
              "<matplotlib.image.AxesImage at 0x7fd102397490>"
            ]
          },
          "metadata": {},
          "execution_count": 38
        },
        {
          "output_type": "display_data",
          "data": {
            "image/png": "[encoded data removed]",
            "text/plain": [
              "<Figure size 432x288 with 1 Axes>"
            ]
          },
          "metadata": {
            "needs_background": "light"
          }
        }
      ]
    },
    {
      "cell_type": "markdown",
      "metadata": {
        "id": "oQnhq5ZdYKCu"
      },
      "source": [
        "### Задача 4"
      ]
    },
    {
      "cell_type": "markdown",
      "metadata": {
        "id": "UB95BhgTYKCu"
      },
      "source": [
        "- В Colab нажмите в меню сверху: `Runtime` -> `Change Runtime Type` -> `GPU`, где изначально стоит `None` (`Среда выполнение` - `Сменить среду выполнения`)\n",
        "- Объявите тензор `a` размера (2, 3, 4) и тензор `b` размера (1, 8, 3) на GPU, иницилизируйте их случайно равномерно (`.uniform_()`)\n",
        "- Затем измените форму тензора `b`, чтобы она совпадала с формой тензора `a`, получите тензор `c`  \n",
        "- Переместите `c` на CPU, переместите `a` на CPU  \n",
        "- Оберните их в `Variable()`\n",
        "- Объявите тензор `L = torch.mean((c - a) `**` 2)` и посчитайте градиент `L` по `c` ( то есть $\\frac{\\partial{L}}{\\partial{c}})$\n",
        "- Выведите градиент `L` по `c`"
      ]
    },
    {
      "cell_type": "code",
      "source": [
        "from torch.autograd import Variable"
      ],
      "metadata": {
        "id": "HJxDeHEiveZ0"
      },
      "execution_count": 2,
      "outputs": []
    },
    {
      "cell_type": "code",
      "metadata": {
        "id": "WESOm5TCYKCv"
      },
      "source": [
        "a = torch.FloatTensor(2, 3, 4).cuda().uniform_()\n",
        "b = torch.FloatTensor(1, 8, 3).cuda().uniform_()\n",
        "c = b.view(2, 3, 4)\n",
        "a = Variable(a.cpu())\n",
        "c = Variable(c.cpu(), requires_grad=True)"
      ],
      "execution_count": 7,
      "outputs": []
    },
    {
      "cell_type": "code",
      "source": [
        "L = torch.mean((c - a)**2)\n",
        "L.backward()\n",
        "c.grad"
      ],
      "metadata": {
        "id": "8yeDUN3Bv49N",
        "outputId": "2ea3cc29-a8ae-40cf-935a-ea2dc45f09f9",
        "colab": {
          "base_uri": "https://localhost:8080/"
        }
      },
      "execution_count": 8,
      "outputs": [
        {
          "output_type": "execute_result",
          "data": {
            "text/plain": [
              "tensor([[[-0.0623,  0.0205, -0.0079, -0.0788],\n",
              "         [-0.0112, -0.0056,  0.0601,  0.0366],\n",
              "         [ 0.0559, -0.0108, -0.0009,  0.0148]],\n",
              "\n",
              "        [[-0.0030,  0.0088, -0.0184,  0.0715],\n",
              "         [ 0.0146,  0.0781,  0.0327,  0.0203],\n",
              "         [ 0.0209, -0.0136, -0.0547,  0.0602]]])"
            ]
          },
          "metadata": {},
          "execution_count": 8
        }
      ]
    }
  ]
}