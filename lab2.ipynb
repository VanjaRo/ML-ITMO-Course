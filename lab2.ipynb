{
  "nbformat": 4,
  "nbformat_minor": 0,
  "metadata": {
    "hide_input": false,
    "kernelspec": {
      "display_name": "Python 3",
      "language": "python",
      "name": "python3"
    },
    "language_info": {
      "codemirror_mode": {
        "name": "ipython",
        "version": 3
      },
      "file_extension": ".py",
      "mimetype": "text/x-python",
      "name": "python",
      "nbconvert_exporter": "python",
      "pygments_lexer": "ipython3",
      "version": "3.7.1"
    },
    "toc": {
      "base_numbering": 1,
      "nav_menu": {},
      "number_sections": true,
      "sideBar": true,
      "skip_h1_title": false,
      "title_cell": "Table of Contents",
      "title_sidebar": "Contents",
      "toc_cell": true,
      "toc_position": {},
      "toc_section_display": true,
      "toc_window_display": false
    },
    "varInspector": {
      "cols": {
        "lenName": 16,
        "lenType": 16,
        "lenVar": 40
      },
      "kernels_config": {
        "python": {
          "delete_cmd_postfix": "",
          "delete_cmd_prefix": "del ",
          "library": "var_list.py",
          "varRefreshCmd": "print(var_dic_list())"
        },
        "r": {
          "delete_cmd_postfix": ") ",
          "delete_cmd_prefix": "rm(",
          "library": "var_list.r",
          "varRefreshCmd": "cat(var_dic_list()) "
        }
      },
      "types_to_exclude": [
        "module",
        "function",
        "builtin_function_or_method",
        "instance",
        "_Feature"
      ],
      "window_display": false
    },
    "colab": {
      "name": "lab2.ipynb",
      "provenance": []
    }
  },
  "cells": [
    {
      "cell_type": "code",
      "metadata": {
        "ExecuteTime": {
          "end_time": "2020-04-23T10:16:05.965275Z",
          "start_time": "2020-04-23T10:16:05.312704Z"
        },
        "id": "bZ7J0si68JdT"
      },
      "source": [
        "import pandas as pd\n",
        "import numpy as np"
      ],
      "execution_count": 1,
      "outputs": []
    },
    {
      "cell_type": "code",
      "metadata": {
        "colab": {
          "base_uri": "https://localhost:8080/"
        },
        "id": "XvkC8eqwBpB6",
        "outputId": "2825ffc4-8bfa-4052-9dd8-47a3a2109a3a"
      },
      "source": [
        "from google.colab import drive\n",
        "drive.mount('/content/drive')"
      ],
      "execution_count": 2,
      "outputs": [
        {
          "output_type": "stream",
          "name": "stdout",
          "text": [
            "Mounted at /content/drive\n"
          ]
        }
      ]
    },
    {
      "cell_type": "markdown",
      "metadata": {
        "id": "xjvL0IIG8Jd0"
      },
      "source": [
        "## Задание 0\n"
      ]
    },
    {
      "cell_type": "markdown",
      "metadata": {
        "id": "yaSxXHvxO0qo"
      },
      "source": [
        "Для всех  заданий будем использовать обезличенные транзакционные банковские данные. Для этого считайте в переменные **tr_mcc_codes, tr_types, transactions и gender_train** из одноимённых таблиц из папки data. Для таблицы transactions используйте только первые n=1000000 строк. Обратите внимание на разделители внутри каждого из файлов - они могут различаться!"
      ]
    },
    {
      "cell_type": "markdown",
      "metadata": {
        "id": "oP3lX9xC8Jd8"
      },
      "source": [
        "###  Описание данных\n",
        "#### Таблица ```transactions.csv```\n",
        "##### Описание\n",
        "Таблица содержит историю транзакций клиентов банка за один год и три месяца.\n",
        "\n",
        "##### Формат данных\n",
        "\n",
        "```\n",
        "customer_id,tr_datetime,mcc_code,tr_type,amount,term_id\n",
        "111111,15 01:40:52,1111,1000,-5224,111111\n",
        "111112,15 15:18:32,3333,2000,-100,11122233\n",
        "...\n",
        "```\n",
        "##### Описание полей\n",
        "\n",
        " - ```customer_id``` — идентификатор клиента;\n",
        " - ```tr_datetime``` — день и время совершения транзакции (дни нумеруются с начала данных);\n",
        " - ```mcc_code``` — mcc-код транзакции;\n",
        " - ```tr_type``` — тип транзакции;\n",
        " - ```amount``` — сумма транзакции в условных единицах со знаком; ```+``` — начисление средств клиенту (приходная транзакция), ```-``` — списание средств (расходная транзакция);\n",
        " - ```term_id``` — идентификатор терминала;\n",
        "\n",
        "\n",
        "#### Таблица ```gender_train.csv```\n",
        "\n",
        "##### Описание\n",
        "Данная таблица содержит информацию по полу для части клиентов, для которых он известен. Для остальных клиентов пол неизвестен.\n",
        "\n",
        "##### Формат данных\n",
        "```\n",
        "customer_id,gender\n",
        "111111,0\n",
        "111112,1\n",
        "...\n",
        "```\n",
        "\n",
        "##### Описание полей\n",
        " - ```customer_id``` — идентификатор клиента;\n",
        " - ```gender``` — пол клиента;\n",
        "\n",
        "### Таблица ```tr_mcc_codes.csv```\n",
        "\n",
        "##### Описание\n",
        "Данная таблица содержит описание mcc-кодов транзакций.\n",
        "\n",
        "##### Формат данных\n",
        "```\n",
        "mcc_code;mcc_description\n",
        "1000;словесное описание mcc-кода 1000\n",
        "2000;словесное описание mcc-кода 2000\n",
        "...\n",
        "```\n",
        "\n",
        "##### Описание полей\n",
        " - ```mcc_code``` – mcc-код транзакции;\n",
        " - ```mcc_description``` — описание mcc-кода транзакции.\n",
        "\n",
        "#### Таблица ```tr_types.csv```\n",
        "\n",
        "##### Описание\n",
        "Данная таблица содержит описание типов транзакций.\n",
        "\n",
        "##### Формат данных\n",
        "```\n",
        "tr_type;tr_description\n",
        "1000;словесное описание типа транзакции 1000\n",
        "2000;словесное описание типа транзакции 2000\n",
        "...\n",
        "```\n",
        "\n",
        "##### Описание полей\n",
        " - ```tr_type``` – тип транзакции;\n",
        " - ```tr_description``` — описание типа транзакции;"
      ]
    },
    {
      "cell_type": "code",
      "metadata": {
        "id": "hvcGi8DTCAVA"
      },
      "source": [
        "tr_types_tbl = pd.read_csv('/content/drive/MyDrive/data/tr_types.csv', delimiter=';')\n",
        "gender_train_tbl = pd.read_csv('/content/drive/MyDrive/data/gender_train.csv')\n",
        "tr_mcc_codes_tbl = pd.read_csv('/content/drive/MyDrive/data/tr_mcc_codes.csv', delimiter=';')\n",
        "transactions_tbl = pd.read_csv('/content/drive/MyDrive/data/transactions.csv', nrows=1000000)"
      ],
      "execution_count": 24,
      "outputs": []
    },
    {
      "cell_type": "markdown",
      "metadata": {
        "id": "04CYsBKz8JeB"
      },
      "source": [
        "## Задание 1\n",
        "\n"
      ]
    },
    {
      "cell_type": "markdown",
      "metadata": {
        "id": "1hcrfwsYN_Yz"
      },
      "source": [
        "1. Для столбца tr_type датафрейма transactions выберите произвольные 1000 строк с помощью метода sample\n",
        "2. В полученной на предыдущем этапе подвыборке найдите долю транзакций (стобец tr_description в датасете tr_types), в которой содержится подстрока 'POS' или 'ATM'"
      ]
    },
    {
      "cell_type": "code",
      "metadata": {
        "id": "aVnW_tO8Q1cg"
      },
      "source": [
        "tr_type_smpl = transactions_tbl['tr_type'].sample(1000)"
      ],
      "execution_count": 25,
      "outputs": []
    },
    {
      "cell_type": "code",
      "metadata": {
        "colab": {
          "base_uri": "https://localhost:8080/"
        },
        "id": "zeGI5tKkEooO",
        "outputId": "c5eda598-86a4-425a-a8c9-1173019a7fdc"
      },
      "source": [
        "\n",
        "mapping = dict(tr_types_tbl[['tr_type', 'tr_description']].values)\n",
        "mapped = tr_type_smpl.map(mapping)\n",
        "\n",
        "filtered_mapping = mapped.str.contains('POS|АТМ', regex=True, na=False)\n",
        "\n",
        "print(len(mapped[filtered_mapping]) / len(tr_type_smpl))"
      ],
      "execution_count": 26,
      "outputs": [
        {
          "output_type": "stream",
          "name": "stdout",
          "text": [
            "0.619\n"
          ]
        }
      ]
    },
    {
      "cell_type": "markdown",
      "metadata": {
        "id": "fiZBDIZt8JeS"
      },
      "source": [
        "## Задание 2 \n"
      ]
    },
    {
      "cell_type": "markdown",
      "metadata": {
        "id": "FFKeBUThOCrz"
      },
      "source": [
        "1. Для столюца tr_type датафрейма transactions посчитайте частоту встречаемости всех типов транзакций tr_type в transactions.\n",
        "2. Выведите топ-10 транзакций по частоте встречаемости."
      ]
    },
    {
      "cell_type": "code",
      "metadata": {
        "colab": {
          "base_uri": "https://localhost:8080/"
        },
        "id": "Y4PeWtgzFRk0",
        "outputId": "6181d48d-a7f5-4e40-fe5b-28fa0450b7eb"
      },
      "source": [
        "tr_type_freq = transactions_tbl['tr_type'].value_counts()\n",
        "tr_type_top_ten = tr_type_freq[:10]\n",
        "print(tr_type_top_ten)"
      ],
      "execution_count": 36,
      "outputs": [
        {
          "output_type": "stream",
          "name": "stdout",
          "text": [
            "1010    231117\n",
            "2010    151166\n",
            "7070    149006\n",
            "1110    137658\n",
            "1030    118975\n",
            "2370     49830\n",
            "7010     28972\n",
            "7030     26078\n",
            "7071     15781\n",
            "1100     15476\n",
            "Name: tr_type, dtype: int64\n"
          ]
        }
      ]
    },
    {
      "cell_type": "markdown",
      "metadata": {
        "id": "mktm_JeA8JeX"
      },
      "source": [
        "## Задание 3\n",
        "1. В датафрейме transactions найдите клиента с максимальной суммой приходов на карту\n",
        "2. В датафрейме transactions найдите клиента с максимальной суммой расходов по карте\n",
        "3. Найдите разницу для этих клиентов между суммой расходов и суммой приходов"
      ]
    },
    {
      "cell_type": "code",
      "metadata": {
        "colab": {
          "base_uri": "https://localhost:8080/"
        },
        "id": "_sx3UULDDmN2",
        "outputId": "64d61d10-7435-4326-d8e9-41ea49aed690"
      },
      "source": [
        "cust_sum_inc = transactions_tbl[transactions_tbl['amount'] > 0].groupby(['customer_id'])['amount'].sum()\n",
        "cust_sum_exp = transactions_tbl[transactions_tbl['amount'] < 0].groupby(['customer_id'])['amount'].sum()\n",
        "\n",
        "max_sum_id = cust_sum_inc.idxmax()\n",
        "min_sum_id = cust_sum_exp.idxmin()\n",
        "\n",
        "print(\"1. \", max_sum_id)\n",
        "print(\"2. \", min_sum_id)\n",
        "print(\"3. \", abs(cust_sum_inc.get(max_sum_id) - abs(cust_sum_exp.get(min_sum_id))))"
      ],
      "execution_count": 33,
      "outputs": [
        {
          "output_type": "stream",
          "name": "stdout",
          "text": [
            "1.  70780820\n",
            "2.  70780820\n",
            "3.  1837317.979973793\n"
          ]
        }
      ]
    },
    {
      "cell_type": "markdown",
      "metadata": {
        "id": "BYrJ5b_E8Jee"
      },
      "source": [
        "## Задание 4\n",
        "1. Найдите среднее арифметическое и медиану по всем типам транзакций из топ 10 из задания 2\n",
        "1. Найдите среднее арифметическое и медиану по всем типам транзакций для клиентов из задания 3"
      ]
    },
    {
      "cell_type": "code",
      "metadata": {
        "colab": {
          "base_uri": "https://localhost:8080/"
        },
        "id": "Lyb75_uLRzKx",
        "outputId": "bacef048-ffea-48a7-c76d-3d0d4d3790f4"
      },
      "source": [
        "tr_type_top_ten_ind = tr_type_top_ten.index\n",
        "tr_type_top = transactions_tbl[transactions_tbl['tr_type'].isin(tr_type_top_ten_ind)].groupby(['tr_type'])['amount']\n",
        "\n",
        "tr_cust = transactions_tbl[transactions_tbl['customer_id'].isin((max_sum_id, min_sum_id))].groupby(['tr_type'])['amount']\n",
        "\n",
        "print('1. ', 'mean: ', tr_type_top.mean(), '\\nmedian: ', tr_type_top.median() )\n",
        "\n",
        "print('2. ', 'mean: ', tr_cust.mean(), '\\nmedian: ', tr_cust.median())"
      ],
      "execution_count": 54,
      "outputs": [
        {
          "output_type": "stream",
          "name": "stdout",
          "text": [
            "1.  mean:  tr_type\n",
            "1010    -19784.748640\n",
            "1030     -5320.980222\n",
            "1100    -44061.827262\n",
            "1110    -32119.330371\n",
            "2010   -136077.629325\n",
            "2370   -205418.249032\n",
            "7010    276391.789596\n",
            "7030     86104.332909\n",
            "7070     65569.831700\n",
            "7071     66806.826623\n",
            "Name: amount, dtype: float64 \n",
            "median:  tr_type\n",
            "1010     -7411.52\n",
            "1030     -2245.92\n",
            "1100    -10188.26\n",
            "1110    -11207.57\n",
            "2010    -44918.32\n",
            "2370    -44918.32\n",
            "7010    112295.79\n",
            "7030     13951.52\n",
            "7070     11319.42\n",
            "7071      3593.47\n",
            "Name: amount, dtype: float64\n",
            "2.  mean:  tr_type\n",
            "2010   -2.941056e+06\n",
            "2330   -2.382398e+06\n",
            "2370   -2.218505e+06\n",
            "6110    1.756293e+04\n",
            "7020    1.465129e+04\n",
            "7021    2.850067e+04\n",
            "7030    1.406196e+04\n",
            "7031    1.921036e+04\n",
            "7034    1.430648e+04\n",
            "7040    2.153833e+04\n",
            "7070    1.384821e+04\n",
            "7071    1.860057e+04\n",
            "7074    2.281159e+04\n",
            "Name: amount, dtype: float64 \n",
            "median:  tr_type\n",
            "2010   -3368873.660\n",
            "2330   -2245915.770\n",
            "2370   -2245915.770\n",
            "6110      10028.010\n",
            "7020      10319.985\n",
            "7021      28500.670\n",
            "7030       8848.910\n",
            "7031      12992.620\n",
            "7034      14306.480\n",
            "7040      14396.320\n",
            "7070       8714.150\n",
            "7071      12543.440\n",
            "7074       9387.930\n",
            "Name: amount, dtype: float64\n"
          ]
        }
      ]
    },
    {
      "cell_type": "markdown",
      "metadata": {
        "id": "BYXwM4l3QDBu"
      },
      "source": [
        "## Подготовка для заданий 5-8"
      ]
    },
    {
      "cell_type": "markdown",
      "metadata": {
        "id": "XWQzFeKcQHRe"
      },
      "source": [
        "*Из заданий 5-8 нужно выполнить минимум два любых*\n",
        "\n",
        "Соедините transactions с всеми остальными таблицами (tr_mcc_codes, tr_types, gender_train). Причём с gender_train необходимо смёрджиться с помощью left join, а с оставшимися датафреймами - через inner.\n",
        "После получения результата таблицы gender_train, tr_types, tr_mcc_codes можно удалить. В результате соединения датафреймов должно получиться 999584 строки."
      ]
    },
    {
      "cell_type": "code",
      "metadata": {
        "id": "sndJxjJ7QQf5",
        "colab": {
          "base_uri": "https://localhost:8080/"
        },
        "outputId": "c2adde81-7a19-45ac-d0f1-728dc41aca49"
      },
      "source": [
        "transactions_tbl = pd.merge(transactions_tbl, gender_train_tbl, how='left')\n",
        "transactions_tbl = pd.merge(transactions_tbl, tr_mcc_codes_tbl, how='inner')\n",
        "transactions_tbl = pd.merge(transactions_tbl, tr_types_tbl, how='inner')\n",
        "transactions_tbl.shape"
      ],
      "execution_count": 55,
      "outputs": [
        {
          "output_type": "execute_result",
          "data": {
            "text/plain": [
              "(999584, 9)"
            ]
          },
          "metadata": {},
          "execution_count": 55
        }
      ]
    },
    {
      "cell_type": "markdown",
      "metadata": {
        "id": "8vrFauJ8QgmT"
      },
      "source": [
        "## Задание 5"
      ]
    },
    {
      "cell_type": "markdown",
      "metadata": {
        "id": "rOjEQ5xyQfE_"
      },
      "source": [
        "1. Определите модуль разницы между средними тратами женщин и мужчин (трата - отрицательное значение amount).\n",
        "2. Определите модуль разницы между средними поступлениями у мужчин и женщин\n",
        "\n",
        "Обратите внимание, что для вычисления модуля разности точных знаний о том, \n",
        "какой класc относится к мужчинам, а какой - к женщинам, не требуется."
      ]
    },
    {
      "cell_type": "code",
      "metadata": {
        "colab": {
          "base_uri": "https://localhost:8080/"
        },
        "id": "Be-eOq-ghxLM",
        "outputId": "7310f472-bc52-4cdc-a427-4c2f6ca7131b"
      },
      "source": [
        "mean_inc = transactions_tbl[transactions_tbl['amount'] > 0].groupby(['gender'])['amount'].mean()\n",
        "mean_exp = transactions_tbl[transactions_tbl['amount'] < 0].groupby(['gender'])['amount'].mean()\n",
        "\n",
        "print(mean_inc)\n",
        "# print(\"Mean expense difference: \\n\", abs(mean_exp.get(0) - mean_exp.get(1)))\n",
        "# print(\"Mean income difference: \\n\", abs(mean_inc.get(0) - mean_inc.get(1)))"
      ],
      "execution_count": 103,
      "outputs": [
        {
          "output_type": "stream",
          "name": "stdout",
          "text": [
            "gender\n",
            "0.0    140984.005058\n",
            "1.0     77617.434010\n",
            "Name: amount, dtype: float64\n"
          ]
        }
      ]
    },
    {
      "cell_type": "markdown",
      "metadata": {
        "id": "DSHFLbepQ7G1"
      },
      "source": [
        "## Задание 6"
      ]
    },
    {
      "cell_type": "markdown",
      "metadata": {
        "id": "2EF1490bQ-17"
      },
      "source": [
        "1. По всем типам транзакций рассчитайте максимальную сумму прихода на карту (из строго положительных сумм по столбцу amount) отдельно для мужчин и женщин (назовите ее \"max_income\"). Оставьте по 10 транзакций для мужчин и для женщин, наименьших среди всех транзакций по полученным значениям \"max_income\". \n",
        "2. Выделите среди них те, которые встречаются одновременно и у мужчин, и у женщин"
      ]
    },
    {
      "cell_type": "markdown",
      "metadata": {
        "id": "W-LaVwRdR3UB"
      },
      "source": [
        "## Задание 7"
      ]
    },
    {
      "cell_type": "markdown",
      "metadata": {
        "id": "rhI4NOciR7e0"
      },
      "source": [
        "1. Найдите суммы затрат по каждой категории для мужчин и для женщин. \n",
        "2. Найдите топ 5 категорий с самыми большими относительными модулями разности для в тратах для разных полов."
      ]
    },
    {
      "cell_type": "code",
      "metadata": {
        "colab": {
          "base_uri": "https://localhost:8080/"
        },
        "id": "aVHFc2Dgklfy",
        "outputId": "ac18cff2-6ff5-4171-97cc-ff4ffab81168"
      },
      "source": [
        "sum_exp = transactions_tbl[transactions_tbl['amount'] < 0].groupby(['gender', 'mcc_code'])['amount'].sum()\n",
        "\n",
        "\n",
        "print(abs(sum_exp.get(1) - sum_exp.get(0)).nlargest())"
      ],
      "execution_count": 115,
      "outputs": [
        {
          "output_type": "stream",
          "name": "stdout",
          "text": [
            "mcc_code\n",
            "6011    3.085862e+09\n",
            "4829    2.499153e+09\n",
            "6010    2.208580e+08\n",
            "5541    1.554326e+08\n",
            "5511    7.352877e+07\n",
            "Name: amount, dtype: float64\n"
          ]
        }
      ]
    },
    {
      "cell_type": "markdown",
      "metadata": {
        "id": "aGaPkQkVSvl8"
      },
      "source": [
        "## Задание 8"
      ]
    },
    {
      "cell_type": "markdown",
      "metadata": {
        "id": "T7Ox1qAXTHQl"
      },
      "source": [
        "1. Из поля tr_datetime выделите час tr_hour, в который произошла транзакция, как первые 2 цифры до \":\". (\\**)\n",
        "2. Посчитайте ночные поступления для мужчин и женщин. Ночные - это примерно 00-06 часов. "
      ]
    },
    {
      "cell_type": "code",
      "metadata": {
        "colab": {
          "base_uri": "https://localhost:8080/"
        },
        "id": "SOFbF0bIAMVJ",
        "outputId": "7bf1b0dc-79c7-4d8f-9560-c691d3aca897"
      },
      "source": [
        "transactions_tbl['tr_hour'] = transactions_tbl['tr_datetime'].map(lambda x: int(x.split()[1][:2]))\n",
        "\n",
        "night_income = transactions_tbl[(transactions_tbl['amount'] >= 0) &\\\n",
        "                                (transactions_tbl['tr_hour'] >= 0) &\\\n",
        "                                (transactions_tbl['tr_hour'] <= 6)].groupby(['gender'])['amount'].sum() \n",
        "print(night_income)"
      ],
      "execution_count": 114,
      "outputs": [
        {
          "output_type": "stream",
          "name": "stdout",
          "text": [
            "gender\n",
            "0.0    5.806437e+08\n",
            "1.0    9.226917e+08\n",
            "Name: amount, dtype: float64\n"
          ]
        }
      ]
    }
  ]
}