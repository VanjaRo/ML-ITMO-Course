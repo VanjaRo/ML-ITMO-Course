{
  "nbformat": 4,
  "nbformat_minor": 0,
  "metadata": {
    "colab": {
      "name": "test 6.1 neuron logloss.ipynb",
      "provenance": [],
      "collapsed_sections": []
    },
    "kernelspec": {
      "display_name": "Python 3",
      "language": "python",
      "name": "python3"
    }
  },
  "cells": [
    {
      "cell_type": "markdown",
      "metadata": {
        "id": "tWTTy4lrZca5"
      },
      "source": [
        "# Обучение нейрона с помощью функции потерь LogLoss"
      ]
    },
    {
      "cell_type": "markdown",
      "metadata": {
        "id": "G_zlIW5BZcbB"
      },
      "source": [
        "<h3 style=\"text-align: center;\"><b>Нейрон с сигмоидой</b></h3>"
      ]
    },
    {
      "cell_type": "markdown",
      "metadata": {
        "id": "QWwW32pCZcbC"
      },
      "source": [
        "Снова рассмотрим нейрон с сигмоидой, то есть $$f(x) = \\sigma(x)=\\frac{1}{1+e^{-x}}$$ "
      ]
    },
    {
      "cell_type": "markdown",
      "metadata": {
        "collapsed": true,
        "id": "mj5QizQIZcbC"
      },
      "source": [
        "Ранее мы установили, что **обучение нейрона с сигмоидой с квадратичной функцией потерь**:  \n",
        "\n",
        "$$MSE(w, x) = \\frac{1}{2n}\\sum_{i=1}^{n} (\\hat{y_i} - y_i)^2 = \\frac{1}{2n}\\sum_{i=1}^{n} (\\sigma(w \\cdot x_i) - y_i)^2$$    \n",
        "\n",
        "где $w \\cdot x_i$ - скалярное произведение, а $\\sigma(w \\cdot x_i) =\\frac{1}{1+e^{-w \\cdot x_i}} $ - сигмоида -- **неэффективно**, то есть мы увидели, что даже за большое количество итераций нейрон предсказывает плохо."
      ]
    },
    {
      "cell_type": "markdown",
      "metadata": {
        "id": "MTgNbravZcbE"
      },
      "source": [
        "Давайте ещё раз взглянем на формулу для градиентного спуска от функции потерь $MSE$ по весам нейрона:"
      ]
    },
    {
      "cell_type": "markdown",
      "metadata": {
        "collapsed": true,
        "id": "RHXjByowZcbE"
      },
      "source": [
        "$$ \\frac{\\partial MSE}{\\partial w} = \\frac{1}{n} X^T (\\sigma(w \\cdot X) - y)\\sigma(w \\cdot X)(1 - \\sigma(w \\cdot X))$$"
      ]
    },
    {
      "cell_type": "markdown",
      "metadata": {
        "id": "ebNqrTV3ZcbF"
      },
      "source": [
        "А теперь смотрим на график сигмоиды:"
      ]
    },
    {
      "cell_type": "markdown",
      "metadata": {
        "id": "366q3EzJZcbH"
      },
      "source": [
        "<img src=\"https://cdn-images-1.medium.com/max/1200/1*IDAnCFoeXqWL7F4u9MJMtA.png\" width=500px height=350px>"
      ]
    },
    {
      "cell_type": "markdown",
      "metadata": {
        "id": "CSEF3EWVZcbJ"
      },
      "source": [
        "**Её значения: числа от 0 до 1.**"
      ]
    },
    {
      "cell_type": "markdown",
      "metadata": {
        "id": "8oOJPcKhZcbJ"
      },
      "source": [
        "Если получше проанализировать формулу, то теперь можно заметить, что, поскольку сигмоида принимает значения между 0 и 1 (а значит (1-$\\sigma$) тоже принимает значения от 0 до 1), то мы умножаем $X^T$ на столбец $(\\sigma(w \\cdot X) - y)$ из чисел от -1 до 1, а потом ещё на столбцы $\\sigma(w \\cdot X)$ и $(1 - \\sigma(w \\cdot X))$ из чисел от 0 до 1. Таким образом в лучшем случае $\\frac{\\partial{Loss}}{\\partial{w}}$ будет столбцом из чисел, порядок которых максимум 0.01 (в среднем, понятно, что если сигмоида выдаёт все 0, то будет 0, если все 1, то тоже 0). После этого мы умножаем на шаг градиентного спуска, который обычно порядка 0.001 или 0.1 максимум. То есть мы вычитаем из весов числа порядка ~0.0001. Медленновато спускаемся, не правда ли? Это называют **проблемой затухающих градиентов**."
      ]
    },
    {
      "cell_type": "markdown",
      "metadata": {
        "id": "hHmUqm5xZcbK"
      },
      "source": [
        "Чтобы избежать эту проблему в задачах классификации, в которых моделью является нейрон с сигмоидной функцией активации, предсказывающий \"вероятности\" принадлженостей к классамиспользуют **LogLoss**:  "
      ]
    },
    {
      "cell_type": "markdown",
      "metadata": {
        "id": "Dbw69trJZcbL"
      },
      "source": [
        "$$J(\\hat{y}, y) = -\\frac{1}{n} \\sum_{i=1}^n y_i \\log(\\hat{y_i}) + (1 - y_i) \\log(1 - \\hat{y_i}) = -\\frac{1}{n} \\sum_{i=1}^n y_i \\log(\\sigma(w \\cdot x_i)) + (1 - y_i) \\log(1 - \\sigma(w \\cdot x_i))$$"
      ]
    },
    {
      "cell_type": "markdown",
      "metadata": {
        "id": "jXcBIx73ZcbM"
      },
      "source": [
        "где, как и прежде, $y$ - столбец $(n, 1)$ из истинных значений классов, а $\\hat{y}$ - столбец $(n, 1)$ из предсказаний нейрона."
      ]
    },
    {
      "cell_type": "code",
      "metadata": {
        "id": "5DBEOhJmZcbN"
      },
      "source": [
        "from matplotlib import pyplot as plt\n",
        "from matplotlib.colors import ListedColormap\n",
        "import numpy as np\n",
        "import pandas as pd"
      ],
      "execution_count": 1,
      "outputs": []
    },
    {
      "cell_type": "code",
      "metadata": {
        "id": "_x5CX0RyZcbQ"
      },
      "source": [
        "def loss(y_pred, y):\n",
        "    return -np.mean(y * np.log(y_pred) + (1 - y) * np.log(1 - y_pred))"
      ],
      "execution_count": 2,
      "outputs": []
    },
    {
      "cell_type": "markdown",
      "metadata": {
        "id": "raPTihU6ZcbT"
      },
      "source": [
        "Отметим, что сейчас речь идёт именно о **бинарной классификации (на два класса)**, в многоклассовой классификации используется функция потерь под названием *кросс-энтропия*, которая является обобщением LogLoss'а на случай нескольких классов."
      ]
    },
    {
      "cell_type": "markdown",
      "metadata": {
        "id": "B0Ky5xUfvOzh"
      },
      "source": [
        "Почему же теперь всё будет лучше? Раньше была проблема умножения маленьких чисел в градиенте. Давайте посмотрим, что теперь:"
      ]
    },
    {
      "cell_type": "markdown",
      "metadata": {
        "id": "qxs0zXfPvOzh"
      },
      "source": [
        "* Для веса $w_j$:"
      ]
    },
    {
      "cell_type": "markdown",
      "metadata": {
        "id": "hH6AujkCvOzj"
      },
      "source": [
        "$$ \\frac{\\partial Loss}{\\partial w_j} = \n",
        "-\\frac{1}{n} \\sum_{i=1}^n \\left(\\frac{y_i}{\\sigma(w \\cdot x_i)} - \\frac{1 - y_i}{1 - \\sigma(w \\cdot x_i)}\\right)(\\sigma(w \\cdot x_i))_{w_j}' = -\\frac{1}{n} \\sum_{i=1}^n \\left(\\frac{y_i}{\\sigma(w \\cdot x_i)} - \\frac{1 - y_i}{1 - \\sigma(w \\cdot x_i)}\\right)\\sigma(w \\cdot x_i)(1 - \\sigma(w \\cdot x_i))x_{ij} = $$\n",
        "$$-\\frac{1}{n} \\sum_{i=1}^n \\left(y_i - \\sigma(w \\cdot x_i)\\right)x_{ij}$$"
      ]
    },
    {
      "cell_type": "markdown",
      "metadata": {
        "id": "dYOygL-zvOzk"
      },
      "source": [
        "* Градиент $Loss$'а по вектору весов -- это вектор, $j$-ая компонента которого равна $\\frac{\\partial Loss}{\\partial w_j}$ (помним, что весов всего $m$):"
      ]
    },
    {
      "cell_type": "markdown",
      "metadata": {
        "id": "ItJoyReVvOzl"
      },
      "source": [
        "$$\\begin{align}\n",
        "    \\frac{\\partial Loss}{\\partial w} &= \\begin{bmatrix}\n",
        "           -\\frac{1}{n} \\sum_{i=1}^n \\left(y_i - \\sigma(w \\cdot x_i)\\right)x_{i1} \\\\\n",
        "           -\\frac{1}{n} \\sum_{i=1}^n \\left(y_i - \\sigma(w \\cdot x_i)\\right)x_{i2} \\\\\n",
        "           \\vdots \\\\\n",
        "           -\\frac{1}{n} \\sum_{i=1}^n \\left(y_i - \\sigma(w \\cdot x_i)\\right)x_{im}\n",
        "         \\end{bmatrix}\n",
        "\\end{align}=\\frac{1}{n} X^T \\left(\\hat{y} - y\\right)$$"
      ]
    },
    {
      "cell_type": "markdown",
      "metadata": {
        "id": "r2xKo6NzvOzm"
      },
      "source": [
        "По аналогии с $w_j$ выведите формулу для свободного члена (bias'а) $b$ (*hint*: можно считать, что при нём есть признак $x_{i0}=1$ на всех $i$)."
      ]
    },
    {
      "cell_type": "markdown",
      "metadata": {
        "id": "7HQALb8XZcbU"
      },
      "source": [
        "Получили новое правило для обновления $w$ и $b$. "
      ]
    },
    {
      "cell_type": "code",
      "metadata": {
        "id": "xL2gqg27ZcbW"
      },
      "source": [
        "def sigmoid(x):\n",
        "    \"\"\"Сигмоидальная функция\"\"\"\n",
        "    return 1 / (1 + np.exp(-x))"
      ],
      "execution_count": 3,
      "outputs": []
    },
    {
      "cell_type": "markdown",
      "metadata": {
        "id": "ukZ-iJNRZcbY"
      },
      "source": [
        "Реализуйте нейрон с функцией потерь LogLoss:"
      ]
    },
    {
      "cell_type": "code",
      "metadata": {
        "id": "TdnkoJDfZcba"
      },
      "source": [
        "class Neuron:\n",
        "    \n",
        "    def __init__(self, w=None, b=0, lr=0.1, eps=1e-5):\n",
        "        \"\"\"\n",
        "        :param: w -- вектор весов\n",
        "        :param: b -- смещение\n",
        "        \"\"\"\n",
        "        # пока что мы не знаем размер матрицы X, а значит не знаем, сколько будет весов\n",
        "        self.w = w\n",
        "        self.b = b\n",
        "        self.lr = lr\n",
        "        self.eps = eps\n",
        "        \n",
        "        \n",
        "    def activate(self, x):\n",
        "        return sigmoid(x)\n",
        "    \n",
        "        \n",
        "    def forward_pass(self, X):\n",
        "        \"\"\"\n",
        "        Эта функция рассчитывает ответ нейрона при предъявлении набора объектов\n",
        "        :param: X -- матрица объектов размера (n, m), каждая строка - отдельный объект\n",
        "        :return: вектор размера (n, 1) из нулей и единиц с ответами перцептрона \n",
        "        \"\"\"\n",
        "        n = X.shape[0]\n",
        "        y_pred = self.activate(X @ self.w.reshape(X.shape[1], 1) + self.b)\n",
        "        return y_pred.reshape(-1, 1)\n",
        "        \n",
        "    \n",
        "    def backward_pass(self, X, y, y_pred, learning_rate=0.1):\n",
        "        \"\"\"\n",
        "        Обновляет значения весов нейрона в соответствие с этим объектом\n",
        "        :param: X -- матрица объектов размера (n, m)\n",
        "                y -- вектор правильных ответов размера (n, 1)\n",
        "                learning_rate - \"скорость обучения\" (символ alpha в формулах выше)\n",
        "        В этом методе ничего возвращать не нужно, только правильно поменять веса\n",
        "        с помощью градиентного спуска.\n",
        "        \"\"\"\n",
        "        n = X.shape[0]\n",
        "        y = np.array(y).reshape(-1, 1)\n",
        "        self.w = self.w - self.lr * (X.T @ (y_pred - y) / n)\n",
        "        self.b = self.b - self.lr * np.mean(y_pred - y)\n",
        "        \n",
        "    \n",
        "    def fit(self, X, y, num_epochs=5000):\n",
        "        \"\"\"\n",
        "        Спускаемся в минимум\n",
        "        :param: X -- матрица объектов размера (n, m)\n",
        "                y -- вектор правильных ответов размера (n, 1)\n",
        "                num_epochs -- количество итераций обучения\n",
        "        :return: J_values -- вектор значений функции потерь\n",
        "        \"\"\"\n",
        "        self.w = np.zeros((X.shape[1], 1))  # столбец (m, 1)\n",
        "        self.b = 0  # смещение\n",
        "        loss_values = []  # значения функции потерь на различных итерациях обновления весов\n",
        "        \n",
        "        for i in range(num_epochs):\n",
        "            # предсказания с текущими весами\n",
        "            y_pred = self.forward_pass(X)\n",
        "            # считаем функцию потерь с текущими весами\n",
        "            loss_values.append(loss(y_pred, y))\n",
        "            # обновляем веса по формуле градиентного спуска\n",
        "            self.backward_pass(X, y, y_pred)\n",
        "\n",
        "        return loss_values\n",
        "        \n",
        "    def predict(self, X, div):\n",
        "        return np.array(self.forward_pass(X) > div).ravel()"
      ],
      "execution_count": 24,
      "outputs": []
    },
    {
      "cell_type": "markdown",
      "metadata": {
        "id": "-RQRPI50Zcbb"
      },
      "source": [
        "<h3 style=\"text-align: center;\"><b>Тестирование</b></h3>"
      ]
    },
    {
      "cell_type": "markdown",
      "metadata": {
        "id": "FBwpsQc0Zcbc"
      },
      "source": [
        "Протестируем нейрон, обученный с новой функцией потерь, на тех же данных, что и в предыдущем ноутбуке:"
      ]
    },
    {
      "cell_type": "markdown",
      "metadata": {
        "id": "JVCPAAuXZcbd"
      },
      "source": [
        "**Проверка forward_pass()**"
      ]
    },
    {
      "cell_type": "code",
      "metadata": {
        "id": "hbuAzv_YZcbe",
        "outputId": "db047aef-1509-4146-f999-a2d0f6840324",
        "colab": {
          "base_uri": "https://localhost:8080/"
        }
      },
      "source": [
        "w = np.array([1., 2.]).reshape(2, 1)\n",
        "b = 2.\n",
        "X = np.array([[1., 3.],\n",
        "              [2., 4.],\n",
        "              [-1., -3.2]])\n",
        "\n",
        "neuron = Neuron(w, b)\n",
        "y_pred = neuron.forward_pass(X)\n",
        "print (\"y_pred = \" + str(y_pred))"
      ],
      "execution_count": 12,
      "outputs": [
        {
          "output_type": "stream",
          "name": "stdout",
          "text": [
            "y_pred = [[0.99987661]\n",
            " [0.99999386]\n",
            " [0.00449627]]\n"
          ]
        }
      ]
    },
    {
      "cell_type": "markdown",
      "metadata": {
        "id": "eL6viEHNZcbi"
      },
      "source": [
        "**Проверка backward_pass()**"
      ]
    },
    {
      "cell_type": "code",
      "metadata": {
        "id": "_4F8zActZcbk"
      },
      "source": [
        "y = np.array([1, 0, 1]).reshape(3, 1)"
      ],
      "execution_count": 13,
      "outputs": []
    },
    {
      "cell_type": "code",
      "metadata": {
        "id": "ILDcoLqwZcbm",
        "outputId": "684055f2-f1a9-417e-a470-a163a33b74f9",
        "colab": {
          "base_uri": "https://localhost:8080/"
        }
      },
      "source": [
        "neuron.backward_pass(X, y, y_pred)\n",
        "\n",
        "print (\"w = \" + str(neuron.w))\n",
        "print (\"b = \" + str(neuron.b))"
      ],
      "execution_count": 14,
      "outputs": [
        {
          "output_type": "stream",
          "name": "stdout",
          "text": [
            "w = [[0.9001544 ]\n",
            " [1.76049276]]\n",
            "b = 1.9998544421863216\n"
          ]
        }
      ]
    },
    {
      "cell_type": "markdown",
      "metadata": {
        "id": "_1ZRdKcfZcbq"
      },
      "source": [
        "Проверьте на наборах данных \"яблоки и груши\" и \"голос\"."
      ]
    },
    {
      "cell_type": "markdown",
      "source": [
        "## Apples and Pears dataset"
      ],
      "metadata": {
        "id": "Vkeo0Z1q7UxW"
      }
    },
    {
      "cell_type": "code",
      "source": [
        "from google.colab import drive\n",
        "drive.mount('/content/drive')"
      ],
      "metadata": {
        "id": "4oc8SzfD0uK3",
        "outputId": "025aa11a-184d-49e9-caf1-7cc54f1bd273",
        "colab": {
          "base_uri": "https://localhost:8080/"
        }
      },
      "execution_count": 15,
      "outputs": [
        {
          "output_type": "stream",
          "name": "stdout",
          "text": [
            "Mounted at /content/drive\n"
          ]
        }
      ]
    },
    {
      "cell_type": "code",
      "source": [
        "data = pd.read_csv('/content/drive/MyDrive/data/apples_pears.csv')\n",
        "data.head()"
      ],
      "metadata": {
        "id": "AHv3UMJl1E_6",
        "outputId": "a2893ae5-dab4-4cb7-8594-cd5d2ddb23b5",
        "colab": {
          "base_uri": "https://localhost:8080/",
          "height": 206
        }
      },
      "execution_count": 16,
      "outputs": [
        {
          "output_type": "execute_result",
          "data": {
            "text/html": [
              "<div>\n",
              "<style scoped>\n",
              "    .dataframe tbody tr th:only-of-type {\n",
              "        vertical-align: middle;\n",
              "    }\n",
              "\n",
              "    .dataframe tbody tr th {\n",
              "        vertical-align: top;\n",
              "    }\n",
              "\n",
              "    .dataframe thead th {\n",
              "        text-align: right;\n",
              "    }\n",
              "</style>\n",
              "<table border=\"1\" class=\"dataframe\">\n",
              "  <thead>\n",
              "    <tr style=\"text-align: right;\">\n",
              "      <th></th>\n",
              "      <th>yellowness</th>\n",
              "      <th>symmetry</th>\n",
              "      <th>target</th>\n",
              "    </tr>\n",
              "  </thead>\n",
              "  <tbody>\n",
              "    <tr>\n",
              "      <th>0</th>\n",
              "      <td>0.779427</td>\n",
              "      <td>0.257305</td>\n",
              "      <td>1.0</td>\n",
              "    </tr>\n",
              "    <tr>\n",
              "      <th>1</th>\n",
              "      <td>0.777005</td>\n",
              "      <td>0.015915</td>\n",
              "      <td>1.0</td>\n",
              "    </tr>\n",
              "    <tr>\n",
              "      <th>2</th>\n",
              "      <td>0.977092</td>\n",
              "      <td>0.304210</td>\n",
              "      <td>1.0</td>\n",
              "    </tr>\n",
              "    <tr>\n",
              "      <th>3</th>\n",
              "      <td>0.043032</td>\n",
              "      <td>0.140899</td>\n",
              "      <td>0.0</td>\n",
              "    </tr>\n",
              "    <tr>\n",
              "      <th>4</th>\n",
              "      <td>0.760433</td>\n",
              "      <td>0.193123</td>\n",
              "      <td>1.0</td>\n",
              "    </tr>\n",
              "  </tbody>\n",
              "</table>\n",
              "</div>"
            ],
            "text/plain": [
              "   yellowness  symmetry  target\n",
              "0    0.779427  0.257305     1.0\n",
              "1    0.777005  0.015915     1.0\n",
              "2    0.977092  0.304210     1.0\n",
              "3    0.043032  0.140899     0.0\n",
              "4    0.760433  0.193123     1.0"
            ]
          },
          "metadata": {},
          "execution_count": 16
        }
      ]
    },
    {
      "cell_type": "code",
      "source": [
        "plt.figure(figsize=(10, 10))\n",
        "groups = data.groupby('target')\n",
        "for name, group in groups:\n",
        "    plt.plot(group.symmetry, group.yellowness, marker='o', linestyle='', markersize=12, label=name)\n",
        "plt.legend()\n",
        "plt.title('Apples and pears', fontsize=15)\n",
        "plt.xlabel('Symmetry', fontsize=14)\n",
        "plt.ylabel('Yellowness', fontsize=14)\n",
        "plt.show();"
      ],
      "metadata": {
        "id": "8Ja5AJ9_2zBB",
        "outputId": "6569828d-4d21-403c-9947-4eb8d44b219f",
        "colab": {
          "base_uri": "https://localhost:8080/",
          "height": 519
        }
      },
      "execution_count": 18,
      "outputs": [
        {
          "output_type": "display_data",
          "data": {
            "image/png": "[encoded data removed]",
            "text/plain": [
              "<Figure size 720x576 with 1 Axes>"
            ]
          },
          "metadata": {
            "needs_background": "light"
          }
        }
      ]
    },
    {
      "cell_type": "code",
      "source": [
        "X = data.iloc[:,:-1].values  \n",
        "y = data['target'].values.reshape((-1, 1))  "
      ],
      "metadata": {
        "id": "NrZunJh55e94"
      },
      "execution_count": 20,
      "outputs": []
    },
    {
      "cell_type": "code",
      "source": [
        "%%time\n",
        "NLL = Neuron(lr=0.5)\n",
        "losses = NLL.fit(X, y, num_epochs=50000)\n",
        "\n",
        "plt.figure(figsize=(10, 8))\n",
        "plt.plot(losses)\n",
        "plt.title('Loss func', fontsize=15)\n",
        "plt.xlabel('iteration', fontsize=14)\n",
        "plt.ylabel('$Loss(\\hat{y}, y)$', fontsize=14)\n",
        "plt.show()"
      ],
      "metadata": {
        "id": "XAR-GS_55363",
        "outputId": "1e0c35c0-72d0-41b6-b1aa-7c19bd3e2341",
        "colab": {
          "base_uri": "https://localhost:8080/",
          "height": 554
        }
      },
      "execution_count": 25,
      "outputs": [
        {
          "output_type": "display_data",
          "data": {
            "image/png": "[encoded data removed]",
            "text/plain": [
              "<Figure size 720x576 with 1 Axes>"
            ]
          },
          "metadata": {
            "needs_background": "light"
          }
        },
        {
          "output_type": "stream",
          "name": "stdout",
          "text": [
            "CPU times: user 8.43 s, sys: 14.1 ms, total: 8.44 s\n",
            "Wall time: 8.44 s\n"
          ]
        }
      ]
    },
    {
      "cell_type": "code",
      "source": [
        "from sklearn.metrics import accuracy_score\n",
        "best = []\n",
        "for i in list(np.arange(0.1, 1.0, 0.01)):\n",
        "  best.append([accuracy_score(y, NLL.predict(X, i).reshape(-1, 1)), i])\n",
        "print('Best accuracy score: ', max(best)[0], \" if division = \", round(max(best)[1], 2))\n",
        "division = max(best)[1]\n",
        "plt.figure(figsize=(10, 10))\n",
        "groups = data.groupby('target')\n",
        "for name, group in groups:\n",
        "    plt.plot(group.symmetry, group.yellowness, marker='o', linestyle='', markersize=12, label=name)\n",
        "plt.legend()\n",
        "plt.title('Apples and pears', fontsize=15)\n",
        "plt.xlabel('Symmetry', fontsize=14)\n",
        "plt.ylabel('Yellowness', fontsize=14)\n",
        "plt.show();"
      ],
      "metadata": {
        "id": "e962uZXM6M4X",
        "outputId": "40ac6287-b790-4503-82f0-e6075e5a16da",
        "colab": {
          "base_uri": "https://localhost:8080/",
          "height": 644
        }
      },
      "execution_count": 27,
      "outputs": [
        {
          "output_type": "stream",
          "name": "stdout",
          "text": [
            "Best accuracy score:  0.999  if division =  0.79\n"
          ]
        },
        {
          "output_type": "display_data",
          "data": {
            "image/png": "[encoded data removed]",
            "text/plain": [
              "<Figure size 720x720 with 1 Axes>"
            ]
          },
          "metadata": {
            "needs_background": "light"
          }
        }
      ]
    },
    {
      "cell_type": "markdown",
      "source": [
        "## Voice dataset"
      ],
      "metadata": {
        "id": "l5hYTrx67dT7"
      }
    },
    {
      "cell_type": "code",
      "source": [
        "from sklearn.preprocessing import MinMaxScaler\n",
        "data = pd.read_csv('/content/drive/MyDrive/data/voice.csv')\n",
        "data['label'] = data['label'].apply(lambda x: 1 if x == 'male' else 0)\n",
        "data_cols = data.columns.values\n",
        "min_max_scaler = MinMaxScaler()\n",
        "data = pd.DataFrame(min_max_scaler.fit_transform(data), columns=data_cols)"
      ],
      "metadata": {
        "id": "9RXb83667RTd"
      },
      "execution_count": 28,
      "outputs": []
    },
    {
      "cell_type": "code",
      "source": [
        "# Shuffle data\n",
        "data = data.sample(frac=1)\n",
        "data.head()"
      ],
      "metadata": {
        "id": "WLIgPs-W8cvH",
        "outputId": "9d71c2e6-65d3-4232-fbad-94447b69b367",
        "colab": {
          "base_uri": "https://localhost:8080/",
          "height": 226
        }
      },
      "execution_count": 29,
      "outputs": [
        {
          "output_type": "execute_result",
          "data": {
            "text/html": [
              "<div>\n",
              "<style scoped>\n",
              "    .dataframe tbody tr th:only-of-type {\n",
              "        vertical-align: middle;\n",
              "    }\n",
              "\n",
              "    .dataframe tbody tr th {\n",
              "        vertical-align: top;\n",
              "    }\n",
              "\n",
              "    .dataframe thead th {\n",
              "        text-align: right;\n",
              "    }\n",
              "</style>\n",
              "<table border=\"1\" class=\"dataframe\">\n",
              "  <thead>\n",
              "    <tr style=\"text-align: right;\">\n",
              "      <th></th>\n",
              "      <th>meanfreq</th>\n",
              "      <th>sd</th>\n",
              "      <th>median</th>\n",
              "      <th>Q25</th>\n",
              "      <th>Q75</th>\n",
              "      <th>IQR</th>\n",
              "      <th>skew</th>\n",
              "      <th>kurt</th>\n",
              "      <th>sp.ent</th>\n",
              "      <th>sfm</th>\n",
              "      <th>mode</th>\n",
              "      <th>centroid</th>\n",
              "      <th>meanfun</th>\n",
              "      <th>minfun</th>\n",
              "      <th>maxfun</th>\n",
              "      <th>meandom</th>\n",
              "      <th>mindom</th>\n",
              "      <th>maxdom</th>\n",
              "      <th>dfrange</th>\n",
              "      <th>modindx</th>\n",
              "      <th>label</th>\n",
              "    </tr>\n",
              "  </thead>\n",
              "  <tbody>\n",
              "    <tr>\n",
              "      <th>1805</th>\n",
              "      <td>0.651219</td>\n",
              "      <td>0.160098</td>\n",
              "      <td>0.657922</td>\n",
              "      <td>0.670889</td>\n",
              "      <td>0.633306</td>\n",
              "      <td>0.035186</td>\n",
              "      <td>0.090198</td>\n",
              "      <td>0.009353</td>\n",
              "      <td>0.320907</td>\n",
              "      <td>0.235867</td>\n",
              "      <td>0.587389</td>\n",
              "      <td>0.651219</td>\n",
              "      <td>0.597442</td>\n",
              "      <td>0.056911</td>\n",
              "      <td>0.834600</td>\n",
              "      <td>0.199438</td>\n",
              "      <td>0.161290</td>\n",
              "      <td>0.283417</td>\n",
              "      <td>0.280401</td>\n",
              "      <td>0.156701</td>\n",
              "      <td>0.0</td>\n",
              "    </tr>\n",
              "    <tr>\n",
              "      <th>2577</th>\n",
              "      <td>0.923547</td>\n",
              "      <td>0.085390</td>\n",
              "      <td>0.917438</td>\n",
              "      <td>0.878793</td>\n",
              "      <td>0.910716</td>\n",
              "      <td>0.088086</td>\n",
              "      <td>0.065573</td>\n",
              "      <td>0.005424</td>\n",
              "      <td>0.264463</td>\n",
              "      <td>0.079657</td>\n",
              "      <td>0.876761</td>\n",
              "      <td>0.923547</td>\n",
              "      <td>0.601233</td>\n",
              "      <td>0.193554</td>\n",
              "      <td>0.981526</td>\n",
              "      <td>0.311379</td>\n",
              "      <td>0.453763</td>\n",
              "      <td>0.256969</td>\n",
              "      <td>0.247854</td>\n",
              "      <td>0.120242</td>\n",
              "      <td>0.0</td>\n",
              "    </tr>\n",
              "    <tr>\n",
              "      <th>2270</th>\n",
              "      <td>0.889306</td>\n",
              "      <td>0.152720</td>\n",
              "      <td>0.899361</td>\n",
              "      <td>0.829238</td>\n",
              "      <td>0.897761</td>\n",
              "      <td>0.127046</td>\n",
              "      <td>0.049863</td>\n",
              "      <td>0.002869</td>\n",
              "      <td>0.422781</td>\n",
              "      <td>0.153098</td>\n",
              "      <td>0.865629</td>\n",
              "      <td>0.889306</td>\n",
              "      <td>0.689595</td>\n",
              "      <td>0.198466</td>\n",
              "      <td>0.954963</td>\n",
              "      <td>0.423895</td>\n",
              "      <td>0.040860</td>\n",
              "      <td>0.543245</td>\n",
              "      <td>0.542918</td>\n",
              "      <td>0.111525</td>\n",
              "      <td>0.0</td>\n",
              "    </tr>\n",
              "    <tr>\n",
              "      <th>1996</th>\n",
              "      <td>0.726103</td>\n",
              "      <td>0.601693</td>\n",
              "      <td>0.831586</td>\n",
              "      <td>0.724257</td>\n",
              "      <td>0.855362</td>\n",
              "      <td>0.195077</td>\n",
              "      <td>0.085944</td>\n",
              "      <td>0.014648</td>\n",
              "      <td>0.750053</td>\n",
              "      <td>0.572864</td>\n",
              "      <td>0.000000</td>\n",
              "      <td>0.726103</td>\n",
              "      <td>0.782523</td>\n",
              "      <td>0.448747</td>\n",
              "      <td>0.954963</td>\n",
              "      <td>0.212914</td>\n",
              "      <td>0.006452</td>\n",
              "      <td>0.178342</td>\n",
              "      <td>0.178469</td>\n",
              "      <td>0.164426</td>\n",
              "      <td>0.0</td>\n",
              "    </tr>\n",
              "    <tr>\n",
              "      <th>2075</th>\n",
              "      <td>0.532832</td>\n",
              "      <td>0.669433</td>\n",
              "      <td>0.553493</td>\n",
              "      <td>0.367762</td>\n",
              "      <td>0.845638</td>\n",
              "      <td>0.556316</td>\n",
              "      <td>0.110223</td>\n",
              "      <td>0.031492</td>\n",
              "      <td>0.922825</td>\n",
              "      <td>0.890606</td>\n",
              "      <td>0.430380</td>\n",
              "      <td>0.532832</td>\n",
              "      <td>0.658758</td>\n",
              "      <td>0.032617</td>\n",
              "      <td>0.981526</td>\n",
              "      <td>0.105846</td>\n",
              "      <td>0.006452</td>\n",
              "      <td>0.068263</td>\n",
              "      <td>0.068312</td>\n",
              "      <td>0.176667</td>\n",
              "      <td>0.0</td>\n",
              "    </tr>\n",
              "  </tbody>\n",
              "</table>\n",
              "</div>"
            ],
            "text/plain": [
              "      meanfreq        sd    median  ...   dfrange   modindx  label\n",
              "1805  0.651219  0.160098  0.657922  ...  0.280401  0.156701    0.0\n",
              "2577  0.923547  0.085390  0.917438  ...  0.247854  0.120242    0.0\n",
              "2270  0.889306  0.152720  0.899361  ...  0.542918  0.111525    0.0\n",
              "1996  0.726103  0.601693  0.831586  ...  0.178469  0.164426    0.0\n",
              "2075  0.532832  0.669433  0.553493  ...  0.068312  0.176667    0.0\n",
              "\n",
              "[5 rows x 21 columns]"
            ]
          },
          "metadata": {},
          "execution_count": 29
        }
      ]
    },
    {
      "cell_type": "code",
      "source": [
        "from sklearn.model_selection import train_test_split\n",
        "X_train, X_test, y_train, y_test = train_test_split(data.drop(\"label\", axis=1), data.label, train_size = 0.7, random_state=42)"
      ],
      "metadata": {
        "id": "WG4WrAZL8wi7"
      },
      "execution_count": 30,
      "outputs": []
    },
    {
      "cell_type": "code",
      "source": [
        "NLL_2 = Neuron(lr=0.5)\n",
        "losses_2  = NLL_2.fit(X_train.values, y_train.values.reshape(-1,1), num_epochs=100000)"
      ],
      "metadata": {
        "id": "Z15PhnHr82pp"
      },
      "execution_count": 31,
      "outputs": []
    },
    {
      "cell_type": "code",
      "source": [
        "plt.figure(figsize=(10, 10))\n",
        "plt.plot(losses_2)\n",
        "plt.title('Loss func', fontsize=15)\n",
        "plt.xlabel('iteration', fontsize=14)\n",
        "plt.ylabel('$Loss(\\hat{y}, y)$', fontsize=14)\n",
        "plt.show()\n",
        "\n",
        "best = []\n",
        "for i in list(np.arange(0.1, 1.0, 0.01)):\n",
        "  best.append([accuracy_score(y_test, NLL_2.predict(X_test.values, i).reshape(-1, 1)), i])\n",
        "print('Best accuracy score: ', max(best)[0], \" if division = \", round(max(best)[1], 2))"
      ],
      "metadata": {
        "id": "tUpVkOPf8_lV",
        "outputId": "3bd40357-9302-4b91-a8f1-84050b23b6e6",
        "colab": {
          "base_uri": "https://localhost:8080/",
          "height": 644
        }
      },
      "execution_count": 33,
      "outputs": [
        {
          "output_type": "display_data",
          "data": {
            "image/png": "[encoded data removed]",
            "text/plain": [
              "<Figure size 720x720 with 1 Axes>"
            ]
          },
          "metadata": {
            "needs_background": "light"
          }
        },
        {
          "output_type": "stream",
          "name": "stdout",
          "text": [
            "Best accuracy score:  0.9758149316508938  if division =  0.67\n"
          ]
        }
      ]
    }
  ]
}