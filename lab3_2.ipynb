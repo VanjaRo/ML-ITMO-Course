{
  "nbformat": 4,
  "nbformat_minor": 0,
  "metadata": {
    "kernelspec": {
      "display_name": "Python 3",
      "language": "python",
      "name": "python3"
    },
    "language_info": {
      "codemirror_mode": {
        "name": "ipython",
        "version": 3
      },
      "file_extension": ".py",
      "mimetype": "text/x-python",
      "name": "python",
      "nbconvert_exporter": "python",
      "pygments_lexer": "ipython3",
      "version": "3.6.5"
    },
    "toc": {
      "base_numbering": 1,
      "nav_menu": {},
      "number_sections": true,
      "sideBar": true,
      "skip_h1_title": false,
      "title_cell": "Table of Contents",
      "title_sidebar": "Contents",
      "toc_cell": false,
      "toc_position": {},
      "toc_section_display": true,
      "toc_window_display": false
    },
    "colab": {
      "name": "Linear Regression lab 3.5-3.8",
      "provenance": [],
      "collapsed_sections": [],
      "toc_visible": true
    }
  },
  "cells": [
    {
      "cell_type": "markdown",
      "metadata": {
        "id": "-7WO78Auf0qu"
      },
      "source": [
        "Это вторая часть задания.\n",
        "\n",
        "Первая часть задания (задания 3.1-3.4) находится в [ноутбуке про линейную регрессию](https://colab.research.google.com/drive/1eX21oBHRAzNr3PimxhMJENF3yeBC2DBe?usp=sharing)."
      ]
    },
    {
      "cell_type": "markdown",
      "metadata": {
        "id": "LYKqDli0Lqas"
      },
      "source": [
        "# Предсказание цен на недвижимость\n",
        "\n",
        "Компании по продаже недвижимости оценивают её стоимость, используя методы машинного обучения. \n",
        "Задача оценки цены на недвижимость также может быть нужна для выявления наиболее выгодных предложений, или, например, для выявления аномально низких цен на объект недвижимости."
      ]
    },
    {
      "cell_type": "markdown",
      "metadata": {
        "id": "FB3xfscxLqat"
      },
      "source": [
        "**Постановка задачи анализа данных** \n",
        "\n",
        "Целью данной задачи является прогнозирование стоимости домов в округе Кинг (штат Вашингтон, США) с помощью построения регрессионных моделей и их анализа. Набор данных состоит из цен на дома в округе Кинг, проданных в период с мая 2014 года по май 2015 года. Данные опубликованы в открытом доступе на платформе Kaggle. "
      ]
    },
    {
      "cell_type": "markdown",
      "metadata": {
        "id": "rvJWkambLqau"
      },
      "source": [
        "Данные с сайта renthub.com по стоимости квартир для аренды:"
      ]
    },
    {
      "cell_type": "markdown",
      "metadata": {
        "id": "_vD1NqACLqav"
      },
      "source": [
        "<a href=\"https://drive.google.com/uc?id=1Dr-p-o5yMi3uIS2kPcUUwT5bH0cCt1Be\n",
        "\" target=\"_blank\"><img src=\"https://drive.google.com/uc?id=1Dr-p-o5yMi3uIS2kPcUUwT5bH0cCt1Be\" \n",
        "alt=\"IMAGE ALT TEXT HERE\" width=\"360\" border=\"0\" /></a>\n"
      ]
    },
    {
      "cell_type": "markdown",
      "metadata": {
        "id": "S15gn1XfLqaw"
      },
      "source": [
        "**Обзор доступных данных**\n",
        "\n",
        "В наборе данных 21613 наблюдений и 16 признаков. \n",
        "Таким образом, про каждый из 21613 объектов недвижимости мы знаем значения 16 характеристик (число спален, оценка состояния риелтором, наличие вида на воду и т.п.)\n",
        "\n",
        "Выборка была разбита на две части для обучения и для тестирования модели. Данные на обучение и тест обычно делят случайно и равномерно: нужно чтобы и обучающая, и тестовая выборка были похожие на те данные, на которых модель будет использоваться в боевых условиях. \n",
        "\n",
        "Более сложные разбиения могут использоваться если в данных есть временная компонента - например, мы строим скоринговую модель и для теста откладываем данные за последние несколько месяцев, а всю остальную выборку используем для обучения. Такое разбиение имитирует реальную работу модели: мы можем обучаться только на данных прошлых кредитов, а работать модель уже будет на данных из будущего. \n",
        "\n",
        "Доли общей выборки для обучения и тестирования обычно 70% и 30% соотвественно. Любые разумные числа подходят, если для обучения используется достаточно много данных (обычно больше 50%), но и для тестирования что-то остается (10% и больше).\n"
      ]
    },
    {
      "cell_type": "markdown",
      "metadata": {
        "id": "iOeVms4dLqax"
      },
      "source": [
        "Данные содержат два типа переменных:\n",
        "\n",
        "* Целевая: **Целевая. Цена**\n",
        "* Остальные переменные **могут использоваться для прогноза целевой переменной.**"
      ]
    },
    {
      "cell_type": "markdown",
      "metadata": {
        "id": "OFP_i1F1Lqay"
      },
      "source": [
        "## План анализа данных (data mining):\n",
        "\n",
        "  1. Загрузить данные для обучения\n",
        "  2. Обработать данные перед обучением модели\n",
        "  3. Обучить модель на обучающей выборке\n",
        "  4. Загрузить и предобработать данные для тестирования\n",
        "  5. Провалидировать модель на тестовой выборке\n",
        "  6. Проанализировать важность признаков и не забыть про постановку задачи"
      ]
    },
    {
      "cell_type": "markdown",
      "metadata": {
        "id": "mKUYn0nHLqaz"
      },
      "source": [
        "## 1. Загрузить данные для обучения"
      ]
    },
    {
      "cell_type": "markdown",
      "metadata": {
        "id": "Bqqurd70Lqaz"
      },
      "source": [
        "**Шаг 1.1. Загружаем библиотеки** "
      ]
    },
    {
      "cell_type": "markdown",
      "metadata": {
        "id": "rY5oSQ0-Lqa0"
      },
      "source": [
        "Библиотека **warnings** отвечает за то, какие предупреждения (warnings) о работе будут выводиться пользователю. \n",
        "FutureWarning - предупреждения о том, как изменится работа библиотек в будущих версиях.\n",
        "Поэтому такие предупреждения мы будем игнорировать.\n",
        "Чтобы включить режим игнорирования мы отбираем все предупреждения из категории FutureWarning и выбираем для них действия 'ignore'.\n",
        "Это делается вызовом функции simplefilter c задание двух атрибутов: действия action и категории предупреждений category."
      ]
    },
    {
      "cell_type": "code",
      "metadata": {
        "id": "SVfM6HC8Lqa1"
      },
      "source": [
        "import warnings\n",
        "warnings.simplefilter(action='ignore', category=FutureWarning)"
      ],
      "execution_count": 53,
      "outputs": []
    },
    {
      "cell_type": "markdown",
      "metadata": {
        "id": "28Bf-HdaLqa4"
      },
      "source": [
        "Для корректной работы с данными в python требуется загрузить специальную библиотеку\n",
        "**pandas**, программную библиотеку на языке python для обработки и анализа данных. "
      ]
    },
    {
      "cell_type": "code",
      "metadata": {
        "id": "DuCW163qLqa4"
      },
      "source": [
        "import pandas as pd # загружаем библиотеку и для простоты обращения в коде называем её сокращенно pd"
      ],
      "execution_count": 54,
      "outputs": []
    },
    {
      "cell_type": "markdown",
      "metadata": {
        "id": "NT0TLhqxLqa7"
      },
      "source": [
        "Для корректной работы с графиками в python требуется загрузить специальную библиотеку\n",
        "**matplotlib**, программную библиотеку на языке python для визуализации данных двумерной и трехмерной графикой.\n",
        "\n",
        "Графики используются для облегчения интерпретации полученных результатов, а также в качестве иллюстраций в презентациях и отчетах. \n",
        "\n",
        "Оснвные методы для построения:\n",
        "* plot() - графики\n",
        "* semilogy() - график логарифмический\n",
        "* hist() - гистограммы"
      ]
    },
    {
      "cell_type": "code",
      "metadata": {
        "id": "gHGUZu8rLqa8"
      },
      "source": [
        "import matplotlib.pyplot as plt # загружаем библиотеку и для простоты обращения в коде называем её сокращенно plt\n",
        "# указываем, чтобы картинки отображались прямо в ноутбуке \n",
        "%matplotlib inline "
      ],
      "execution_count": 55,
      "outputs": []
    },
    {
      "cell_type": "markdown",
      "metadata": {
        "id": "JVr8btg7Qk3x"
      },
      "source": [
        "**Шаг 1.2. Загрузим данные**"
      ]
    },
    {
      "cell_type": "markdown",
      "metadata": {
        "id": "5pzU4iRyQN9H"
      },
      "source": [
        "Для решения задачи мы будем использовать данные. Они состоят из двух частей: часть для обучения и часть для тестирования модели. Загружаем данные с помощие команды !wget. Для того, чтобы игнорировать сообщения в процессе загрузки используем магическую команду %%capture в первой строке."
      ]
    },
    {
      "cell_type": "code",
      "metadata": {
        "id": "g6rmRg3BOTxG"
      },
      "source": [
        "%%capture\n",
        "!wget https://www.dropbox.com/s/afwb0tnqm9izxha/predict_house_price_training_data.xlsx\n",
        "!wget https://www.dropbox.com/s/sur2avqf4n5f4az/predict_house_price_test_data.xlsx"
      ],
      "execution_count": 56,
      "outputs": []
    },
    {
      "cell_type": "markdown",
      "metadata": {
        "id": "yJpKlVRBLqa-"
      },
      "source": [
        "Так как данные в формате xlsx (Excel), мы будем использовать специальную функцию\n",
        "из библиотеки pandas для загрузки таких данных **read_excel**.\n",
        "\n",
        "В функции передаем один атрибут: название таблицы с данными."
      ]
    },
    {
      "cell_type": "code",
      "metadata": {
        "id": "jaBeMSeuLqa_"
      },
      "source": [
        "training_data = pd.read_excel('predict_house_price_training_data.xlsx') # загружаем таблицу в переменную training_data"
      ],
      "execution_count": 57,
      "outputs": []
    },
    {
      "cell_type": "markdown",
      "metadata": {
        "id": "jK9Xd2a5LqbB"
      },
      "source": [
        "*Что важно посмотреть после того, как мы загрузили данные?*\n",
        "- проверить, что данные действительно загрузились\n",
        "- посмотреть на данные, чтобы удостовериться, что они правильные: колонки имеют те же названия, что и в таблице и т.д.\n",
        "\n",
        "Для того чтобы это сделать, нужно вызвать от переменной *training_data* метод **head()**, который выводит первые 5 строк таблицы. \n",
        "\n",
        "Для вызова метода объекта необходимо сначала написать *имя объекта*, затем поставить *точку*, затем уже написать *название метода*. Обратите внимание, что в конце обязательно ставить скобочки, потому что метод - это функция и в ней есть аргументы, просто в данном случае мы их не передаем, поэтому оставляем поле пустым"
      ]
    },
    {
      "cell_type": "code",
      "metadata": {
        "id": "q3Me_dg-LqbC",
        "colab": {
          "base_uri": "https://localhost:8080/",
          "height": 258
        },
        "outputId": "28764f0d-da7b-4965-affd-c93fc868fecb"
      },
      "source": [
        "training_data.head()"
      ],
      "execution_count": 58,
      "outputs": [
        {
          "output_type": "execute_result",
          "data": {
            "text/html": [
              "<div>\n",
              "<style scoped>\n",
              "    .dataframe tbody tr th:only-of-type {\n",
              "        vertical-align: middle;\n",
              "    }\n",
              "\n",
              "    .dataframe tbody tr th {\n",
              "        vertical-align: top;\n",
              "    }\n",
              "\n",
              "    .dataframe thead th {\n",
              "        text-align: right;\n",
              "    }\n",
              "</style>\n",
              "<table border=\"1\" class=\"dataframe\">\n",
              "  <thead>\n",
              "    <tr style=\"text-align: right;\">\n",
              "      <th></th>\n",
              "      <th>Целевая.Цена</th>\n",
              "      <th>Спальни</th>\n",
              "      <th>Ванные</th>\n",
              "      <th>Жилая площадь</th>\n",
              "      <th>Общая площадь</th>\n",
              "      <th>Количество этажей</th>\n",
              "      <th>Вид на воду</th>\n",
              "      <th>Просмотрены ранее</th>\n",
              "      <th>Состояние</th>\n",
              "      <th>Оценка риелтора</th>\n",
              "      <th>Площадь без подвала</th>\n",
              "      <th>Площадь подвала</th>\n",
              "      <th>Год постройки</th>\n",
              "      <th>Год реновации</th>\n",
              "      <th>Широта</th>\n",
              "      <th>Долгота</th>\n",
              "    </tr>\n",
              "  </thead>\n",
              "  <tbody>\n",
              "    <tr>\n",
              "      <th>0</th>\n",
              "      <td>830000</td>\n",
              "      <td>5</td>\n",
              "      <td>3.50</td>\n",
              "      <td>3490</td>\n",
              "      <td>21780</td>\n",
              "      <td>2.0</td>\n",
              "      <td>0</td>\n",
              "      <td>0</td>\n",
              "      <td>3</td>\n",
              "      <td>8</td>\n",
              "      <td>3490</td>\n",
              "      <td>0</td>\n",
              "      <td>1996</td>\n",
              "      <td>0</td>\n",
              "      <td>47.6707</td>\n",
              "      <td>-122.144</td>\n",
              "    </tr>\n",
              "    <tr>\n",
              "      <th>1</th>\n",
              "      <td>385000</td>\n",
              "      <td>4</td>\n",
              "      <td>1.75</td>\n",
              "      <td>2360</td>\n",
              "      <td>7620</td>\n",
              "      <td>1.0</td>\n",
              "      <td>0</td>\n",
              "      <td>0</td>\n",
              "      <td>4</td>\n",
              "      <td>7</td>\n",
              "      <td>1180</td>\n",
              "      <td>1180</td>\n",
              "      <td>1955</td>\n",
              "      <td>0</td>\n",
              "      <td>47.5278</td>\n",
              "      <td>-122.345</td>\n",
              "    </tr>\n",
              "    <tr>\n",
              "      <th>2</th>\n",
              "      <td>610000</td>\n",
              "      <td>6</td>\n",
              "      <td>2.75</td>\n",
              "      <td>2040</td>\n",
              "      <td>8560</td>\n",
              "      <td>1.0</td>\n",
              "      <td>0</td>\n",
              "      <td>2</td>\n",
              "      <td>4</td>\n",
              "      <td>7</td>\n",
              "      <td>1100</td>\n",
              "      <td>940</td>\n",
              "      <td>1961</td>\n",
              "      <td>0</td>\n",
              "      <td>47.6160</td>\n",
              "      <td>-122.115</td>\n",
              "    </tr>\n",
              "    <tr>\n",
              "      <th>3</th>\n",
              "      <td>550000</td>\n",
              "      <td>3</td>\n",
              "      <td>1.75</td>\n",
              "      <td>1940</td>\n",
              "      <td>8376</td>\n",
              "      <td>1.0</td>\n",
              "      <td>0</td>\n",
              "      <td>0</td>\n",
              "      <td>4</td>\n",
              "      <td>8</td>\n",
              "      <td>1290</td>\n",
              "      <td>650</td>\n",
              "      <td>1963</td>\n",
              "      <td>0</td>\n",
              "      <td>47.5586</td>\n",
              "      <td>-122.173</td>\n",
              "    </tr>\n",
              "    <tr>\n",
              "      <th>4</th>\n",
              "      <td>1300000</td>\n",
              "      <td>3</td>\n",
              "      <td>2.75</td>\n",
              "      <td>3450</td>\n",
              "      <td>5350</td>\n",
              "      <td>1.5</td>\n",
              "      <td>0</td>\n",
              "      <td>3</td>\n",
              "      <td>4</td>\n",
              "      <td>9</td>\n",
              "      <td>2590</td>\n",
              "      <td>860</td>\n",
              "      <td>1925</td>\n",
              "      <td>0</td>\n",
              "      <td>47.6389</td>\n",
              "      <td>-122.407</td>\n",
              "    </tr>\n",
              "  </tbody>\n",
              "</table>\n",
              "</div>"
            ],
            "text/plain": [
              "   Целевая.Цена  Спальни  Ванные  ...  Год реновации   Широта  Долгота\n",
              "0        830000        5    3.50  ...              0  47.6707 -122.144\n",
              "1        385000        4    1.75  ...              0  47.5278 -122.345\n",
              "2        610000        6    2.75  ...              0  47.6160 -122.115\n",
              "3        550000        3    1.75  ...              0  47.5586 -122.173\n",
              "4       1300000        3    2.75  ...              0  47.6389 -122.407\n",
              "\n",
              "[5 rows x 16 columns]"
            ]
          },
          "metadata": {},
          "execution_count": 58
        }
      ]
    },
    {
      "cell_type": "markdown",
      "metadata": {
        "id": "wkuIAKG4LqbF"
      },
      "source": [
        "**Шаг 1.3. Посмотрим на размеры загруженной таблицы**, у которой мы видели только первые 5 строк.\n",
        "\n",
        "Для этого вызываем поле **shape** у нашей переменной *training_data*. Поле вызывается также как метод, но в конце скобки не ставятся, так как для поля не предусмотрена передача аргументов.  "
      ]
    },
    {
      "cell_type": "code",
      "metadata": {
        "id": "8uNkaQKWLqbG",
        "colab": {
          "base_uri": "https://localhost:8080/"
        },
        "outputId": "59d9f4a3-61e8-492e-daca-7b3b4bc9e92b"
      },
      "source": [
        "training_data.shape"
      ],
      "execution_count": 59,
      "outputs": [
        {
          "output_type": "execute_result",
          "data": {
            "text/plain": [
              "(15129, 16)"
            ]
          },
          "metadata": {},
          "execution_count": 59
        }
      ]
    },
    {
      "cell_type": "markdown",
      "metadata": {
        "id": "8oiD7YJjLqbI"
      },
      "source": [
        "*Что означает первое и второе число?*\n",
        "\n",
        "Итак, таблица содержит 15129 строк (объектов) и 16 столбцов (признаков), включая выходной (целевой) признак.\n",
        "15129 меньше 21613, так как мы пока загрузили только часть данных, которую будем использовать для обучения модели.\n",
        "\n",
        "Таблицу проверили, теперь можно приступать к обработке данных."
      ]
    },
    {
      "cell_type": "markdown",
      "metadata": {
        "id": "Mz4rsFhALqbJ"
      },
      "source": [
        "# 2. Обработать данные перед обучением модели"
      ]
    },
    {
      "cell_type": "markdown",
      "metadata": {
        "id": "0Z2QQXxSLqbK"
      },
      "source": [
        "**Шаг 2.1. Проверяем данные на наличие пропусков и типов переменных**\n",
        "\n",
        "Начнем с проверки общей информации о данных.\n",
        "Для того чтобы это сделать, нужно обратиться вызвать у переменной *training_data* метод **info()**.\n",
        "\n",
        "Напомним, что в конце необходимо поставить скобочки."
      ]
    },
    {
      "cell_type": "code",
      "metadata": {
        "id": "yBfVVIN7LqbL",
        "colab": {
          "base_uri": "https://localhost:8080/"
        },
        "outputId": "709ac639-7770-4aaa-c630-72f7645cdebb"
      },
      "source": [
        "training_data.info()"
      ],
      "execution_count": 60,
      "outputs": [
        {
          "output_type": "stream",
          "name": "stdout",
          "text": [
            "<class 'pandas.core.frame.DataFrame'>\n",
            "RangeIndex: 15129 entries, 0 to 15128\n",
            "Data columns (total 16 columns):\n",
            " #   Column               Non-Null Count  Dtype  \n",
            "---  ------               --------------  -----  \n",
            " 0   Целевая.Цена         15129 non-null  int64  \n",
            " 1   Спальни              15129 non-null  int64  \n",
            " 2   Ванные               15129 non-null  float64\n",
            " 3   Жилая площадь        15129 non-null  int64  \n",
            " 4   Общая площадь        15129 non-null  int64  \n",
            " 5   Количество этажей    15129 non-null  float64\n",
            " 6   Вид на воду          15129 non-null  int64  \n",
            " 7   Просмотрены ранее    15129 non-null  int64  \n",
            " 8   Состояние            15129 non-null  int64  \n",
            " 9   Оценка риелтора      15129 non-null  int64  \n",
            " 10  Площадь без подвала  15129 non-null  int64  \n",
            " 11  Площадь подвала      15129 non-null  int64  \n",
            " 12  Год постройки        15129 non-null  int64  \n",
            " 13  Год реновации        15129 non-null  int64  \n",
            " 14  Широта               15129 non-null  float64\n",
            " 15  Долгота              15129 non-null  float64\n",
            "dtypes: float64(4), int64(12)\n",
            "memory usage: 1.8 MB\n"
          ]
        }
      ]
    },
    {
      "cell_type": "markdown",
      "metadata": {
        "id": "va78W9uuLqbN"
      },
      "source": [
        "Анализируем результата выполнения команды:\n",
        "\n",
        "* 15129 строк (entries)\n",
        "* 16 столбцов (Data columns)\n",
        "\n",
        "В данных присутствует всего два типа dtypes:\n",
        "* int64 - целое число  (12 столбцов)\n",
        "* float64 - дробное число (4 столбца)\n",
        "\n",
        "Цифры в каждой строчке обозначают количество заполненных (*non-null*) значений. Так как эти цифры в каждой строчке совпадают с числом строк (15129), то в данных нет пропусков и можно двигаться дальше. "
      ]
    },
    {
      "cell_type": "markdown",
      "metadata": {
        "id": "oPiLacxmLqbO"
      },
      "source": [
        "**Шаг 2.2. Работаем с целевой переменной**\n",
        "\n",
        "*Какая переменная целевая?*\n",
        "\n",
        "В данном случае по условию задачи мы должны прогнозировать стоимость, поэтому целевая переменная - это цена. "
      ]
    },
    {
      "cell_type": "code",
      "metadata": {
        "id": "EsyYEJd0LqbP"
      },
      "source": [
        "target_variable_name = 'Целевая.Цена'"
      ],
      "execution_count": 61,
      "outputs": []
    },
    {
      "cell_type": "markdown",
      "metadata": {
        "id": "gOM9Kj8pLqbS"
      },
      "source": [
        "Нам нужно выделить в отдельную переменную *training_values* столбец из нашей таблицы, который соответствует определенной выше целевой переменной. Для этого мы у таблицы *training_data* в квадратных скобках указываем имя нужного столбца. В нашем случае это имя записано в переменной *target_variable_name*. "
      ]
    },
    {
      "cell_type": "code",
      "metadata": {
        "id": "BbEcpf4mLqbT"
      },
      "source": [
        "training_values = training_data[target_variable_name]"
      ],
      "execution_count": 62,
      "outputs": []
    },
    {
      "cell_type": "markdown",
      "metadata": {
        "id": "INrEpAUkLqbV"
      },
      "source": [
        "Отделим входные переменные от выходной (целевой), чтобы можно было построить модель предсказания целевой переменной по входным. \n",
        "Для это нужно у переменной *training_data* вызвать метод **drop()**. Результат мы записываем в новую переменную *training_points*. После выполнения запроса *training_points* будет содержать исходную таблицу без целевого столбца. \n",
        "\n",
        "Обратите внимание, что в данном случае мы передаем два аргумента:\n",
        "    1. target_variable_name - название столбца цены, который мы ранее записали в эту переменную и теперь хотим удалить из training_data\n",
        "    2. axis=1 - означает, что мы удаляем столбец, а в случае axis=0 - означает, что мы удаляем строку"
      ]
    },
    {
      "cell_type": "code",
      "metadata": {
        "id": "DDXkAIHBLqbW"
      },
      "source": [
        "training_points = training_data.drop(target_variable_name, axis=1)"
      ],
      "execution_count": 63,
      "outputs": []
    },
    {
      "cell_type": "markdown",
      "metadata": {
        "id": "civG1etNLqbY"
      },
      "source": [
        "Можно посмотреть результаты этих действий, вызвав метод **head()** и поле **shape**, которыми мы пользовались ранее, но сейчас нужно вызывать их от новой переменной *training_points*."
      ]
    },
    {
      "cell_type": "code",
      "metadata": {
        "id": "tiglFXjuLqbZ",
        "colab": {
          "base_uri": "https://localhost:8080/",
          "height": 258
        },
        "outputId": "78cb8b10-627c-4834-9c0e-d3c4eac6f292"
      },
      "source": [
        "training_points.head()"
      ],
      "execution_count": 64,
      "outputs": [
        {
          "output_type": "execute_result",
          "data": {
            "text/html": [
              "<div>\n",
              "<style scoped>\n",
              "    .dataframe tbody tr th:only-of-type {\n",
              "        vertical-align: middle;\n",
              "    }\n",
              "\n",
              "    .dataframe tbody tr th {\n",
              "        vertical-align: top;\n",
              "    }\n",
              "\n",
              "    .dataframe thead th {\n",
              "        text-align: right;\n",
              "    }\n",
              "</style>\n",
              "<table border=\"1\" class=\"dataframe\">\n",
              "  <thead>\n",
              "    <tr style=\"text-align: right;\">\n",
              "      <th></th>\n",
              "      <th>Спальни</th>\n",
              "      <th>Ванные</th>\n",
              "      <th>Жилая площадь</th>\n",
              "      <th>Общая площадь</th>\n",
              "      <th>Количество этажей</th>\n",
              "      <th>Вид на воду</th>\n",
              "      <th>Просмотрены ранее</th>\n",
              "      <th>Состояние</th>\n",
              "      <th>Оценка риелтора</th>\n",
              "      <th>Площадь без подвала</th>\n",
              "      <th>Площадь подвала</th>\n",
              "      <th>Год постройки</th>\n",
              "      <th>Год реновации</th>\n",
              "      <th>Широта</th>\n",
              "      <th>Долгота</th>\n",
              "    </tr>\n",
              "  </thead>\n",
              "  <tbody>\n",
              "    <tr>\n",
              "      <th>0</th>\n",
              "      <td>5</td>\n",
              "      <td>3.50</td>\n",
              "      <td>3490</td>\n",
              "      <td>21780</td>\n",
              "      <td>2.0</td>\n",
              "      <td>0</td>\n",
              "      <td>0</td>\n",
              "      <td>3</td>\n",
              "      <td>8</td>\n",
              "      <td>3490</td>\n",
              "      <td>0</td>\n",
              "      <td>1996</td>\n",
              "      <td>0</td>\n",
              "      <td>47.6707</td>\n",
              "      <td>-122.144</td>\n",
              "    </tr>\n",
              "    <tr>\n",
              "      <th>1</th>\n",
              "      <td>4</td>\n",
              "      <td>1.75</td>\n",
              "      <td>2360</td>\n",
              "      <td>7620</td>\n",
              "      <td>1.0</td>\n",
              "      <td>0</td>\n",
              "      <td>0</td>\n",
              "      <td>4</td>\n",
              "      <td>7</td>\n",
              "      <td>1180</td>\n",
              "      <td>1180</td>\n",
              "      <td>1955</td>\n",
              "      <td>0</td>\n",
              "      <td>47.5278</td>\n",
              "      <td>-122.345</td>\n",
              "    </tr>\n",
              "    <tr>\n",
              "      <th>2</th>\n",
              "      <td>6</td>\n",
              "      <td>2.75</td>\n",
              "      <td>2040</td>\n",
              "      <td>8560</td>\n",
              "      <td>1.0</td>\n",
              "      <td>0</td>\n",
              "      <td>2</td>\n",
              "      <td>4</td>\n",
              "      <td>7</td>\n",
              "      <td>1100</td>\n",
              "      <td>940</td>\n",
              "      <td>1961</td>\n",
              "      <td>0</td>\n",
              "      <td>47.6160</td>\n",
              "      <td>-122.115</td>\n",
              "    </tr>\n",
              "    <tr>\n",
              "      <th>3</th>\n",
              "      <td>3</td>\n",
              "      <td>1.75</td>\n",
              "      <td>1940</td>\n",
              "      <td>8376</td>\n",
              "      <td>1.0</td>\n",
              "      <td>0</td>\n",
              "      <td>0</td>\n",
              "      <td>4</td>\n",
              "      <td>8</td>\n",
              "      <td>1290</td>\n",
              "      <td>650</td>\n",
              "      <td>1963</td>\n",
              "      <td>0</td>\n",
              "      <td>47.5586</td>\n",
              "      <td>-122.173</td>\n",
              "    </tr>\n",
              "    <tr>\n",
              "      <th>4</th>\n",
              "      <td>3</td>\n",
              "      <td>2.75</td>\n",
              "      <td>3450</td>\n",
              "      <td>5350</td>\n",
              "      <td>1.5</td>\n",
              "      <td>0</td>\n",
              "      <td>3</td>\n",
              "      <td>4</td>\n",
              "      <td>9</td>\n",
              "      <td>2590</td>\n",
              "      <td>860</td>\n",
              "      <td>1925</td>\n",
              "      <td>0</td>\n",
              "      <td>47.6389</td>\n",
              "      <td>-122.407</td>\n",
              "    </tr>\n",
              "  </tbody>\n",
              "</table>\n",
              "</div>"
            ],
            "text/plain": [
              "   Спальни  Ванные  Жилая площадь  ...  Год реновации   Широта  Долгота\n",
              "0        5    3.50           3490  ...              0  47.6707 -122.144\n",
              "1        4    1.75           2360  ...              0  47.5278 -122.345\n",
              "2        6    2.75           2040  ...              0  47.6160 -122.115\n",
              "3        3    1.75           1940  ...              0  47.5586 -122.173\n",
              "4        3    2.75           3450  ...              0  47.6389 -122.407\n",
              "\n",
              "[5 rows x 15 columns]"
            ]
          },
          "metadata": {},
          "execution_count": 64
        }
      ]
    },
    {
      "cell_type": "code",
      "metadata": {
        "id": "DAfReQdsLqbb",
        "colab": {
          "base_uri": "https://localhost:8080/"
        },
        "outputId": "a0264f26-7d91-44d6-dc9d-0931304c3563"
      },
      "source": [
        "training_points.shape"
      ],
      "execution_count": 65,
      "outputs": [
        {
          "output_type": "execute_result",
          "data": {
            "text/plain": [
              "(15129, 15)"
            ]
          },
          "metadata": {},
          "execution_count": 65
        }
      ]
    },
    {
      "cell_type": "markdown",
      "metadata": {
        "id": "kx5oc0ScLqbf"
      },
      "source": [
        "Видно, что столбца действительно нет, а количество строк не изменилось. Данные в 5 первых строках такие же, как были ранее."
      ]
    },
    {
      "cell_type": "markdown",
      "metadata": {
        "id": "pJyxgxErLqbg"
      },
      "source": [
        "##   3. Обучить модель на обучающей выборке"
      ]
    },
    {
      "cell_type": "markdown",
      "metadata": {
        "id": "0FvCNInJLqbg"
      },
      "source": [
        "**Шаг 3.1. Выбираем метод, который будем использовать**\n",
        "\n",
        "Проще всего начать с простых методов. \n",
        "\n",
        "На выбор метода для построения модели влияет набор признаков, размер выборки, интуиция про то, какая связь между входными переменными и целевой. Но часто решение принимается исходя из того, какая модель сработала лучше."
      ]
    },
    {
      "cell_type": "markdown",
      "metadata": {
        "id": "m84QeANALqbi"
      },
      "source": [
        "Для корректной работы с методами построения моделей в python требуется загрузить специальную библиотеку\n",
        "**sklearn**, программную библиотеку на языке python для для машинного обучения и анализа данных.\n",
        "\n",
        "Импортируем модуль из этой библиотеки:\n",
        " * *linear_model* - тут находятся все линейные модели"
      ]
    },
    {
      "cell_type": "code",
      "metadata": {
        "id": "f1mxLNeZLqbj"
      },
      "source": [
        "from sklearn import linear_model"
      ],
      "execution_count": 66,
      "outputs": []
    },
    {
      "cell_type": "markdown",
      "metadata": {
        "id": "Zm15N2pvLqbq"
      },
      "source": [
        "Чтобы создать модель линейной регресии, пишем имя модуля 'linear_model', затем точку, затем название модели."
      ]
    },
    {
      "cell_type": "code",
      "metadata": {
        "id": "aJdy5rsFLqbt"
      },
      "source": [
        "linear_regression_model = linear_model.LinearRegression() # создаем модель"
      ],
      "execution_count": 67,
      "outputs": []
    },
    {
      "cell_type": "code",
      "metadata": {
        "id": "nYk4bedkLqbw",
        "colab": {
          "base_uri": "https://localhost:8080/"
        },
        "outputId": "b5fd7342-e13e-46ab-95be-e8c5128d3274"
      },
      "source": [
        "linear_regression_model # смотрим, что получилось"
      ],
      "execution_count": 68,
      "outputs": [
        {
          "output_type": "execute_result",
          "data": {
            "text/plain": [
              "LinearRegression(copy_X=True, fit_intercept=True, n_jobs=None, normalize=False)"
            ]
          },
          "metadata": {},
          "execution_count": 68
        }
      ]
    },
    {
      "cell_type": "markdown",
      "metadata": {
        "id": "TM7UfC6uLqb2"
      },
      "source": [
        "**Шаг 3.2. Обучить модель**\n",
        "\n",
        "Теперь, когда мы создали прототип модели, можем её обучить на обучающей выборке. \n",
        "\n",
        "Для этого вызываем метод **fit()** и передаем ему на вход два аргумента: \n",
        "таблицу входных признаков и столбец значений целевой переменной - (training_points, training_values)"
      ]
    },
    {
      "cell_type": "code",
      "metadata": {
        "id": "zlMSe5KOLqb3",
        "colab": {
          "base_uri": "https://localhost:8080/"
        },
        "outputId": "d351800e-2b93-45c0-c079-f4c0f67d0f31"
      },
      "source": [
        "scaler = StandardScaler().fit(training_points)\n",
        "training_points_scaled = scaler.transform(training_points)\n",
        "linear_regression_model.fit(training_points_scaled, training_values)"
      ],
      "execution_count": 96,
      "outputs": [
        {
          "output_type": "execute_result",
          "data": {
            "text/plain": [
              "LinearRegression(copy_X=True, fit_intercept=True, n_jobs=None, normalize=False)"
            ]
          },
          "metadata": {},
          "execution_count": 96
        }
      ]
    },
    {
      "cell_type": "markdown",
      "metadata": {
        "id": "s_MADgOMhxKd"
      },
      "source": [
        "## Задание 3.5\n",
        "\n",
        "Реализуйте настройку параметров модели не с помощью встроенной функции, а с помощью своей реализации.\n",
        "\n",
        "Настроить параметры нужно либо с помощью **стохастического градиентного спуска** либо с помощью **mini-batch градиентного спуска**. \n",
        "Нужно использовать регуляризацию **L1, L2 или Elastic Net**. "
      ]
    },
    {
      "cell_type": "code",
      "metadata": {
        "id": "ApyLDSZWH1bs"
      },
      "source": [
        "import numpy as np\n",
        "from sklearn.base import BaseEstimator, RegressorMixin\n",
        "from numpy.linalg import inv\n",
        "\n",
        "\n",
        "class CustomLinearRegression(BaseEstimator, RegressorMixin):\n",
        "  def __init__(self, elastic_net = False, elastic_net_coefs=[0., 0.]):\n",
        "    self.elastic_net = elastic_net\n",
        "    self.elastic_net_coefs = [float(elastic_net_coefs[0]), float(elastic_net_coefs[1])]\n",
        "  \n",
        "  def _step(self, X, y, learning_rate):\n",
        "    if not self.elastic_net:\n",
        "      self.w -= 2 * learning_rate * np.dot(X.T, np.dot(X, self.w) - y)\n",
        "    else:\n",
        "      self.w -= 2 * learning_rate * (np.dot(X.T, np.dot(X, self.w) - y) + \n",
        "                                     self.elastic_net_coefs[0] * self.w + \n",
        "                                     self.elastic_net_coefs[1] * ((self.w > 0).astype(float) - \n",
        "                                                                        (self.w < 0).astype(float)))\n",
        "\n",
        "\n",
        "  def fit(self, X, y, learning_rate = 0.01, epochs = 1000, eps_limit = 10e-4, learning_rate_impact_per_epoch = 1):\n",
        "    X = np.column_stack((X, np.ones(X.shape[0]).astype(float)))\n",
        "    self.w = (np.random.uniform(-1, 1, X.shape[1]) - 0.5).copy()\n",
        "    for epoch in range(epochs):\n",
        "      learning_rate = learning_rate / learning_rate_impact_per_epoch\n",
        "      for example in range(y.size):\n",
        "        self._step(X[example], y[example], learning_rate)\n",
        "    return self\n",
        "\n",
        "  def predict(self, X):\n",
        "    X = np.column_stack((X, np.ones(X.shape[0]).astype(float)))\n",
        "    return X @ self.w"
      ],
      "execution_count": 97,
      "outputs": []
    },
    {
      "cell_type": "code",
      "metadata": {
        "id": "DxMQG5I_KRqJ",
        "outputId": "12163336-0f68-45b6-f55f-dba604f1f4ce",
        "colab": {
          "base_uri": "https://localhost:8080/"
        }
      },
      "source": [
        "from sklearn.metrics import mean_absolute_error, mean_squared_error\n",
        "from sklearn.preprocessing import StandardScaler\n",
        "\n",
        "clr = CustomLinearRegression().fit(training_points_scaled,\n",
        "                                                            training_values,\n",
        "                                                            epochs=10,\n",
        "                                                            learning_rate=10e-4)\n",
        "y_pred = clr.predict(training_points_scaled)\n",
        "print('Error MAE:', mean_absolute_error(y_pred, training_values),\n",
        "      'Error MSE:', mean_squared_error(y_pred, training_values))"
      ],
      "execution_count": 98,
      "outputs": [
        {
          "output_type": "stream",
          "name": "stdout",
          "text": [
            "Error MAE: 124757.54234875273 Error MSE: 42687275632.75769\n"
          ]
        }
      ]
    },
    {
      "cell_type": "code",
      "metadata": {
        "id": "QUz7C_EQMLLu",
        "outputId": "bc8c519a-7264-48f3-8ec0-3017fc06d79e",
        "colab": {
          "base_uri": "https://localhost:8080/",
          "height": 438
        }
      },
      "source": [
        "plt.figure(figsize=(20, 8))\n",
        "plt.bar(training_points.columns, linear_regression_model.coef_)"
      ],
      "execution_count": 99,
      "outputs": [
        {
          "output_type": "execute_result",
          "data": {
            "text/plain": [
              "<BarContainer object of 15 artists>"
            ]
          },
          "metadata": {},
          "execution_count": 99
        },
        {
          "output_type": "display_data",
          "data": {
            "image/png": "[encoded data removed]",
            "text/plain": [
              "<Figure size 1440x576 with 1 Axes>"
            ]
          },
          "metadata": {
            "needs_background": "light"
          }
        }
      ]
    },
    {
      "cell_type": "code",
      "metadata": {
        "id": "AoPDnoCQOv0L",
        "outputId": "f5095891-e179-43f7-f77a-8b5862e772e8",
        "colab": {
          "base_uri": "https://localhost:8080/",
          "height": 437
        }
      },
      "source": [
        "plt.figure(figsize=(20, 8))\n",
        "plt.bar(training_points.columns, clr.w[:-1])\n",
        "# print(training_points.columns.shape)\n",
        "# print(clr.w[1:].shape)"
      ],
      "execution_count": 100,
      "outputs": [
        {
          "output_type": "execute_result",
          "data": {
            "text/plain": [
              "<BarContainer object of 15 artists>"
            ]
          },
          "metadata": {},
          "execution_count": 100
        },
        {
          "output_type": "display_data",
          "data": {
            "image/png": "[encoded data removed]",
            "text/plain": [
              "<Figure size 1440x576 with 1 Axes>"
            ]
          },
          "metadata": {
            "needs_background": "light"
          }
        }
      ]
    },
    {
      "cell_type": "markdown",
      "metadata": {
        "id": "y8BB5t5DLqb8"
      },
      "source": [
        "# 4. Загрузить и предобработать данные для тестирования"
      ]
    },
    {
      "cell_type": "markdown",
      "metadata": {
        "id": "V70UJoRnLqb9"
      },
      "source": [
        "**Шаг 4.1. Загрузим и проанализируем тестовые данные.**\n",
        "\n",
        "Так как данные в формате xlsx (Excel), мы будем использовать специальную функцию\n",
        "из библиотеки pandas для загрузки таких данных **read_excel**.\n",
        "\n",
        "В функции передаем один атрибут: название файла, в котором находится таблица с данными."
      ]
    },
    {
      "cell_type": "code",
      "metadata": {
        "id": "G2QC-fcBLqb9"
      },
      "source": [
        "test_data = pd.read_excel('predict_house_price_test_data.xlsx')"
      ],
      "execution_count": 74,
      "outputs": []
    },
    {
      "cell_type": "markdown",
      "metadata": {
        "id": "D5c96FglLqcA"
      },
      "source": [
        "*Что важно посмотреть, после того, как мы загрузили данные?*\n",
        "\n",
        "- проверить, что данные действительно загрузились\n",
        "- посмотреть на данные, чтобы удостовериться, что они правильные: колонки имеют те же названия, что и в таблице и т.д.\n",
        "\n",
        "Для того чтобы это сделать, нужно вызвать от переменной *test_data* метод **head()**, который выводит первые 5 строк таблицы. \n",
        "\n",
        "Для вызова метода объекта необходимо сначала написать *имя объекта*, затем поставить *точку*, затем уже написать *название метода*. Обратите внимание, что в конце обязательно ставить скобочки, потому что метод - это функция и в ней есть аргументы, просто в данном случае мы их не передаем, поэтому оставляем поле пустым"
      ]
    },
    {
      "cell_type": "code",
      "metadata": {
        "id": "aWplqmHwLqcC",
        "colab": {
          "base_uri": "https://localhost:8080/",
          "height": 258
        },
        "outputId": "6d3f62f7-ecaf-46b3-ef32-d2e2adc40eed"
      },
      "source": [
        "test_data.head()"
      ],
      "execution_count": 75,
      "outputs": [
        {
          "output_type": "execute_result",
          "data": {
            "text/html": [
              "<div>\n",
              "<style scoped>\n",
              "    .dataframe tbody tr th:only-of-type {\n",
              "        vertical-align: middle;\n",
              "    }\n",
              "\n",
              "    .dataframe tbody tr th {\n",
              "        vertical-align: top;\n",
              "    }\n",
              "\n",
              "    .dataframe thead th {\n",
              "        text-align: right;\n",
              "    }\n",
              "</style>\n",
              "<table border=\"1\" class=\"dataframe\">\n",
              "  <thead>\n",
              "    <tr style=\"text-align: right;\">\n",
              "      <th></th>\n",
              "      <th>Целевая.Цена</th>\n",
              "      <th>Спальни</th>\n",
              "      <th>Ванные</th>\n",
              "      <th>Жилая площадь</th>\n",
              "      <th>Общая площадь</th>\n",
              "      <th>Количество этажей</th>\n",
              "      <th>Вид на воду</th>\n",
              "      <th>Просмотрены ранее</th>\n",
              "      <th>Состояние</th>\n",
              "      <th>Оценка риелтора</th>\n",
              "      <th>Площадь без подвала</th>\n",
              "      <th>Площадь подвала</th>\n",
              "      <th>Год постройки</th>\n",
              "      <th>Год реновации</th>\n",
              "      <th>Широта</th>\n",
              "      <th>Долгота</th>\n",
              "    </tr>\n",
              "  </thead>\n",
              "  <tbody>\n",
              "    <tr>\n",
              "      <th>0</th>\n",
              "      <td>260000</td>\n",
              "      <td>3</td>\n",
              "      <td>1.00</td>\n",
              "      <td>1300</td>\n",
              "      <td>10139</td>\n",
              "      <td>1.0</td>\n",
              "      <td>0</td>\n",
              "      <td>0</td>\n",
              "      <td>3</td>\n",
              "      <td>7</td>\n",
              "      <td>1300</td>\n",
              "      <td>0</td>\n",
              "      <td>1962</td>\n",
              "      <td>2007</td>\n",
              "      <td>47.3427</td>\n",
              "      <td>-122.087</td>\n",
              "    </tr>\n",
              "    <tr>\n",
              "      <th>1</th>\n",
              "      <td>734500</td>\n",
              "      <td>4</td>\n",
              "      <td>2.75</td>\n",
              "      <td>3280</td>\n",
              "      <td>6845</td>\n",
              "      <td>2.0</td>\n",
              "      <td>0</td>\n",
              "      <td>0</td>\n",
              "      <td>3</td>\n",
              "      <td>10</td>\n",
              "      <td>3280</td>\n",
              "      <td>0</td>\n",
              "      <td>2003</td>\n",
              "      <td>0</td>\n",
              "      <td>47.7042</td>\n",
              "      <td>-122.107</td>\n",
              "    </tr>\n",
              "    <tr>\n",
              "      <th>2</th>\n",
              "      <td>325000</td>\n",
              "      <td>1</td>\n",
              "      <td>1.00</td>\n",
              "      <td>1220</td>\n",
              "      <td>12426</td>\n",
              "      <td>1.0</td>\n",
              "      <td>0</td>\n",
              "      <td>4</td>\n",
              "      <td>4</td>\n",
              "      <td>6</td>\n",
              "      <td>1220</td>\n",
              "      <td>0</td>\n",
              "      <td>1946</td>\n",
              "      <td>0</td>\n",
              "      <td>47.4047</td>\n",
              "      <td>-122.331</td>\n",
              "    </tr>\n",
              "    <tr>\n",
              "      <th>3</th>\n",
              "      <td>1990000</td>\n",
              "      <td>3</td>\n",
              "      <td>2.50</td>\n",
              "      <td>2880</td>\n",
              "      <td>13500</td>\n",
              "      <td>1.0</td>\n",
              "      <td>0</td>\n",
              "      <td>4</td>\n",
              "      <td>5</td>\n",
              "      <td>8</td>\n",
              "      <td>1520</td>\n",
              "      <td>1360</td>\n",
              "      <td>1950</td>\n",
              "      <td>0</td>\n",
              "      <td>47.6281</td>\n",
              "      <td>-122.216</td>\n",
              "    </tr>\n",
              "    <tr>\n",
              "      <th>4</th>\n",
              "      <td>315000</td>\n",
              "      <td>3</td>\n",
              "      <td>2.00</td>\n",
              "      <td>1300</td>\n",
              "      <td>3731</td>\n",
              "      <td>1.0</td>\n",
              "      <td>0</td>\n",
              "      <td>0</td>\n",
              "      <td>3</td>\n",
              "      <td>7</td>\n",
              "      <td>900</td>\n",
              "      <td>400</td>\n",
              "      <td>1993</td>\n",
              "      <td>0</td>\n",
              "      <td>47.5374</td>\n",
              "      <td>-122.270</td>\n",
              "    </tr>\n",
              "  </tbody>\n",
              "</table>\n",
              "</div>"
            ],
            "text/plain": [
              "   Целевая.Цена  Спальни  Ванные  ...  Год реновации   Широта  Долгота\n",
              "0        260000        3    1.00  ...           2007  47.3427 -122.087\n",
              "1        734500        4    2.75  ...              0  47.7042 -122.107\n",
              "2        325000        1    1.00  ...              0  47.4047 -122.331\n",
              "3       1990000        3    2.50  ...              0  47.6281 -122.216\n",
              "4        315000        3    2.00  ...              0  47.5374 -122.270\n",
              "\n",
              "[5 rows x 16 columns]"
            ]
          },
          "metadata": {},
          "execution_count": 75
        }
      ]
    },
    {
      "cell_type": "markdown",
      "metadata": {
        "id": "rNOKBtaVLqcF"
      },
      "source": [
        "Посмотрим на размеры загруженной таблицы, так как мы видели только 5 строк\n",
        "\n",
        "Для этого вызываем поле **shape** у нашей переменной *test_data*. Поле вызывается также как метод, но в конце скобки не ставятся (!), так как для поля не предусмотрена передача аргументов.  "
      ]
    },
    {
      "cell_type": "code",
      "metadata": {
        "id": "FHzoBYPKLqcG",
        "colab": {
          "base_uri": "https://localhost:8080/"
        },
        "outputId": "bd83089f-ec6a-4478-c303-399ab25f85d8"
      },
      "source": [
        "test_data.shape"
      ],
      "execution_count": 76,
      "outputs": [
        {
          "output_type": "execute_result",
          "data": {
            "text/plain": [
              "(6484, 16)"
            ]
          },
          "metadata": {},
          "execution_count": 76
        }
      ]
    },
    {
      "cell_type": "markdown",
      "metadata": {
        "id": "Sic-zsmxLqcI"
      },
      "source": [
        "*Что означает первое и второе число?* \n",
        "Таблица содержит 6484 строк (объектов) и 16 столбцов (признаков), включая выходной (целевой) признак. Также как в учебных данных до обучения.\n",
        "\n",
        "Таблицу проверили, теперь можно приступать к обработке данных\n",
        "Действуем аналогично тому, как делали с данными для обучения"
      ]
    },
    {
      "cell_type": "markdown",
      "metadata": {
        "id": "cirwOcb7LqcJ"
      },
      "source": [
        "Проверим, есть ли в данных пропуски. Для того чтобы это сделать, нужно обратиться вызвать у переменной *test_data* метод **info()**."
      ]
    },
    {
      "cell_type": "code",
      "metadata": {
        "id": "-TMC8NvMLqcJ",
        "colab": {
          "base_uri": "https://localhost:8080/"
        },
        "outputId": "98ab2a1e-f50f-47b7-89b1-3bab6971d9c1"
      },
      "source": [
        "test_data.info()"
      ],
      "execution_count": 77,
      "outputs": [
        {
          "output_type": "stream",
          "name": "stdout",
          "text": [
            "<class 'pandas.core.frame.DataFrame'>\n",
            "RangeIndex: 6484 entries, 0 to 6483\n",
            "Data columns (total 16 columns):\n",
            " #   Column               Non-Null Count  Dtype  \n",
            "---  ------               --------------  -----  \n",
            " 0   Целевая.Цена         6484 non-null   int64  \n",
            " 1   Спальни              6484 non-null   int64  \n",
            " 2   Ванные               6484 non-null   float64\n",
            " 3   Жилая площадь        6484 non-null   int64  \n",
            " 4   Общая площадь        6484 non-null   int64  \n",
            " 5   Количество этажей    6484 non-null   float64\n",
            " 6   Вид на воду          6484 non-null   int64  \n",
            " 7   Просмотрены ранее    6484 non-null   int64  \n",
            " 8   Состояние            6484 non-null   int64  \n",
            " 9   Оценка риелтора      6484 non-null   int64  \n",
            " 10  Площадь без подвала  6484 non-null   int64  \n",
            " 11  Площадь подвала      6484 non-null   int64  \n",
            " 12  Год постройки        6484 non-null   int64  \n",
            " 13  Год реновации        6484 non-null   int64  \n",
            " 14  Широта               6484 non-null   float64\n",
            " 15  Долгота              6484 non-null   float64\n",
            "dtypes: float64(4), int64(12)\n",
            "memory usage: 810.6 KB\n"
          ]
        }
      ]
    },
    {
      "cell_type": "markdown",
      "metadata": {
        "id": "AN3MKGbcLqcL"
      },
      "source": [
        "Цифры в каждой строчке обозначают количество заполненных (*non-null*) значений. Так как эти цифры в каждой строчке совпадают с числом строк (6484), то в данных нет пропусков."
      ]
    },
    {
      "cell_type": "markdown",
      "metadata": {
        "id": "2cUtLvm8LqcM"
      },
      "source": [
        "**Шаг 4.2. Отделяем целевую переменную**"
      ]
    },
    {
      "cell_type": "markdown",
      "metadata": {
        "id": "s2QuCPmzLqcM"
      },
      "source": [
        "Нам нужно выделить в отдельную переменную *test_values* столбец из нашей таблицы, который соответствует определенной выше целевой переменной. Для этого мы у таблицы *test_data* в квадратных скобках указываем имя нужного столбца. В нашем случае это имя записано в переменной *target_variable_name*. "
      ]
    },
    {
      "cell_type": "code",
      "metadata": {
        "id": "-mJZ2H7QLqcN"
      },
      "source": [
        "test_values = test_data[target_variable_name]"
      ],
      "execution_count": 78,
      "outputs": []
    },
    {
      "cell_type": "markdown",
      "metadata": {
        "id": "65B_7B2YLqcP"
      },
      "source": [
        "Отделим входные переменные от выходной (целевой), чтобы можно было построить модель предсказания целевой переменной по входным. \n",
        "Для это нужно у переменной *test_data* вызвать метод **drop()**. Результат мы записываем в новую переменную *test_points*. После выполнения запроса *test_points* будет содержать исходную таблицу без целевого столбца. \n",
        "\n",
        "Обратите внимание, что в данном случае мы передаем два аргумента:\n",
        "    1. target_variable_name - название столбца цены, который мы ранее записали в эту переменную и теперь хотим удалить из training_data\n",
        "    2. axis=1 - означает, что мы удаляем столбец, а в случае axis=0 - означает, что мы удаляем строку"
      ]
    },
    {
      "cell_type": "code",
      "metadata": {
        "id": "-VIMWvPLLqcQ"
      },
      "source": [
        "test_points = test_data.drop(target_variable_name, axis=1)"
      ],
      "execution_count": 79,
      "outputs": []
    },
    {
      "cell_type": "markdown",
      "metadata": {
        "id": "y3Cwim1CLqcV"
      },
      "source": [
        "И проверяем результат записанный в test_points"
      ]
    },
    {
      "cell_type": "code",
      "metadata": {
        "id": "s20UtLqELqcV",
        "colab": {
          "base_uri": "https://localhost:8080/",
          "height": 258
        },
        "outputId": "c888007f-ce39-4a07-bf19-ee62e440eb3e"
      },
      "source": [
        "test_points.head()"
      ],
      "execution_count": 80,
      "outputs": [
        {
          "output_type": "execute_result",
          "data": {
            "text/html": [
              "<div>\n",
              "<style scoped>\n",
              "    .dataframe tbody tr th:only-of-type {\n",
              "        vertical-align: middle;\n",
              "    }\n",
              "\n",
              "    .dataframe tbody tr th {\n",
              "        vertical-align: top;\n",
              "    }\n",
              "\n",
              "    .dataframe thead th {\n",
              "        text-align: right;\n",
              "    }\n",
              "</style>\n",
              "<table border=\"1\" class=\"dataframe\">\n",
              "  <thead>\n",
              "    <tr style=\"text-align: right;\">\n",
              "      <th></th>\n",
              "      <th>Спальни</th>\n",
              "      <th>Ванные</th>\n",
              "      <th>Жилая площадь</th>\n",
              "      <th>Общая площадь</th>\n",
              "      <th>Количество этажей</th>\n",
              "      <th>Вид на воду</th>\n",
              "      <th>Просмотрены ранее</th>\n",
              "      <th>Состояние</th>\n",
              "      <th>Оценка риелтора</th>\n",
              "      <th>Площадь без подвала</th>\n",
              "      <th>Площадь подвала</th>\n",
              "      <th>Год постройки</th>\n",
              "      <th>Год реновации</th>\n",
              "      <th>Широта</th>\n",
              "      <th>Долгота</th>\n",
              "    </tr>\n",
              "  </thead>\n",
              "  <tbody>\n",
              "    <tr>\n",
              "      <th>0</th>\n",
              "      <td>3</td>\n",
              "      <td>1.00</td>\n",
              "      <td>1300</td>\n",
              "      <td>10139</td>\n",
              "      <td>1.0</td>\n",
              "      <td>0</td>\n",
              "      <td>0</td>\n",
              "      <td>3</td>\n",
              "      <td>7</td>\n",
              "      <td>1300</td>\n",
              "      <td>0</td>\n",
              "      <td>1962</td>\n",
              "      <td>2007</td>\n",
              "      <td>47.3427</td>\n",
              "      <td>-122.087</td>\n",
              "    </tr>\n",
              "    <tr>\n",
              "      <th>1</th>\n",
              "      <td>4</td>\n",
              "      <td>2.75</td>\n",
              "      <td>3280</td>\n",
              "      <td>6845</td>\n",
              "      <td>2.0</td>\n",
              "      <td>0</td>\n",
              "      <td>0</td>\n",
              "      <td>3</td>\n",
              "      <td>10</td>\n",
              "      <td>3280</td>\n",
              "      <td>0</td>\n",
              "      <td>2003</td>\n",
              "      <td>0</td>\n",
              "      <td>47.7042</td>\n",
              "      <td>-122.107</td>\n",
              "    </tr>\n",
              "    <tr>\n",
              "      <th>2</th>\n",
              "      <td>1</td>\n",
              "      <td>1.00</td>\n",
              "      <td>1220</td>\n",
              "      <td>12426</td>\n",
              "      <td>1.0</td>\n",
              "      <td>0</td>\n",
              "      <td>4</td>\n",
              "      <td>4</td>\n",
              "      <td>6</td>\n",
              "      <td>1220</td>\n",
              "      <td>0</td>\n",
              "      <td>1946</td>\n",
              "      <td>0</td>\n",
              "      <td>47.4047</td>\n",
              "      <td>-122.331</td>\n",
              "    </tr>\n",
              "    <tr>\n",
              "      <th>3</th>\n",
              "      <td>3</td>\n",
              "      <td>2.50</td>\n",
              "      <td>2880</td>\n",
              "      <td>13500</td>\n",
              "      <td>1.0</td>\n",
              "      <td>0</td>\n",
              "      <td>4</td>\n",
              "      <td>5</td>\n",
              "      <td>8</td>\n",
              "      <td>1520</td>\n",
              "      <td>1360</td>\n",
              "      <td>1950</td>\n",
              "      <td>0</td>\n",
              "      <td>47.6281</td>\n",
              "      <td>-122.216</td>\n",
              "    </tr>\n",
              "    <tr>\n",
              "      <th>4</th>\n",
              "      <td>3</td>\n",
              "      <td>2.00</td>\n",
              "      <td>1300</td>\n",
              "      <td>3731</td>\n",
              "      <td>1.0</td>\n",
              "      <td>0</td>\n",
              "      <td>0</td>\n",
              "      <td>3</td>\n",
              "      <td>7</td>\n",
              "      <td>900</td>\n",
              "      <td>400</td>\n",
              "      <td>1993</td>\n",
              "      <td>0</td>\n",
              "      <td>47.5374</td>\n",
              "      <td>-122.270</td>\n",
              "    </tr>\n",
              "  </tbody>\n",
              "</table>\n",
              "</div>"
            ],
            "text/plain": [
              "   Спальни  Ванные  Жилая площадь  ...  Год реновации   Широта  Долгота\n",
              "0        3    1.00           1300  ...           2007  47.3427 -122.087\n",
              "1        4    2.75           3280  ...              0  47.7042 -122.107\n",
              "2        1    1.00           1220  ...              0  47.4047 -122.331\n",
              "3        3    2.50           2880  ...              0  47.6281 -122.216\n",
              "4        3    2.00           1300  ...              0  47.5374 -122.270\n",
              "\n",
              "[5 rows x 15 columns]"
            ]
          },
          "metadata": {},
          "execution_count": 80
        }
      ]
    },
    {
      "cell_type": "code",
      "metadata": {
        "id": "ig4hw7enLqca",
        "colab": {
          "base_uri": "https://localhost:8080/"
        },
        "outputId": "1a03d045-f05b-4d06-f0e0-92508df0a994"
      },
      "source": [
        "test_points.shape"
      ],
      "execution_count": 81,
      "outputs": [
        {
          "output_type": "execute_result",
          "data": {
            "text/plain": [
              "(6484, 15)"
            ]
          },
          "metadata": {},
          "execution_count": 81
        }
      ]
    },
    {
      "cell_type": "markdown",
      "metadata": {
        "id": "xvDMV5yoLqce"
      },
      "source": [
        "Видно, что количество столбцов уменьшилось на один. Данные в 5 первых строках такие же, как были ранее."
      ]
    },
    {
      "cell_type": "markdown",
      "metadata": {
        "id": "5QFgDcQXLqcf"
      },
      "source": [
        "# 5. Провалидировать модель на тестовой выборке"
      ]
    },
    {
      "cell_type": "markdown",
      "metadata": {
        "id": "LL7Pb7IlLqcg"
      },
      "source": [
        "**Шаг 5.1. Сравнение моделей.**\n",
        "\n",
        "Теперь мы готовы сравнить качество двух моделей! 😎"
      ]
    },
    {
      "cell_type": "markdown",
      "metadata": {
        "id": "NDTfUzZdLqch"
      },
      "source": [
        "## Задание 3.6 Какая модель лучше?\n",
        "\n",
        "Получим прогнозы целевой переменной на тестовых данных для модели линейной регрессии из sklearn и для своей реализации. \n",
        "\n"
      ]
    },
    {
      "cell_type": "code",
      "metadata": {
        "id": "DK3TytoFLqch"
      },
      "source": [
        "test_points_scaled = scaler.transform(test_points)"
      ],
      "execution_count": 101,
      "outputs": []
    },
    {
      "cell_type": "code",
      "metadata": {
        "id": "WfESQh1Limzq"
      },
      "source": [
        "test_predictions_linear = linear_regression_model.predict(test_points_scaled)\n",
        "clr_pred = clr.predict(test_points_scaled)\n",
        "### введите свой код\n",
        "### код для получения предсказаний с помощью своей реализации алгоритма настройки параметров модели\n"
      ],
      "execution_count": 102,
      "outputs": []
    },
    {
      "cell_type": "markdown",
      "metadata": {
        "id": "kxRo4sq1Lqcm"
      },
      "source": [
        "Качество регрессионных моделей оценим двумя способами: \n",
        "1. Сравним визуально прогнозы с настоящими ценами (тестовые с предсказанием)\n",
        "2. Сравним метрики качества MSE и MAE"
      ]
    },
    {
      "cell_type": "markdown",
      "metadata": {
        "id": "Swg445QcLqct"
      },
      "source": [
        "Для корректного подсчета метрик качества модели в python требуется загрузить их из библиотеки **sklearn**. \n",
        "\n",
        "Мы используем две метрики качества:\n",
        " * *mean_absolute_error* - средняя абсолютная ошибка $|y_i - \\hat{y}_i|$\n",
        " * *mean_squared_error* - средняя квадратичная ошибка $(y_i - \\hat{y}_i)^2$"
      ]
    },
    {
      "cell_type": "code",
      "metadata": {
        "id": "vAmGjpEzLqcu"
      },
      "source": [
        "from sklearn.metrics import mean_absolute_error, mean_squared_error"
      ],
      "execution_count": 84,
      "outputs": []
    },
    {
      "cell_type": "markdown",
      "metadata": {
        "id": "gmkMZN2FLqcw"
      },
      "source": [
        "Подсчитаем ошибки для линейной модели.\n",
        "\n",
        "Для этого вызовем методы **mean_absolute_error()** и **mean_squared_error()**. На вход им передается столбец настоящих значений *test_values* и столбец значений, предсказанных моделью линейной регрессии *test_predictions_linear*."
      ]
    },
    {
      "cell_type": "code",
      "metadata": {
        "id": "k14DseleLqcw",
        "outputId": "1e56eccb-006f-43ed-fb19-e637491faf9c",
        "colab": {
          "base_uri": "https://localhost:8080/"
        }
      },
      "source": [
        "mean_absolute_error_linear_model = mean_absolute_error(test_values, test_predictions_linear) \n",
        "mean_squared_error_linear_model = mean_squared_error(test_values, test_predictions_linear)\n",
        "print('MAE: ', mean_absolute_error_linear_model)\n",
        "print('MSE: ',mean_squared_error_linear_model)"
      ],
      "execution_count": 103,
      "outputs": [
        {
          "output_type": "stream",
          "name": "stdout",
          "text": [
            "MAE:  126852.51255003204\n",
            "MSE:  40756843765.101494\n"
          ]
        }
      ]
    },
    {
      "cell_type": "markdown",
      "metadata": {
        "id": "R84sQt9LLqc0"
      },
      "source": [
        "Подсчитайте ошибки для своей реализации модели."
      ]
    },
    {
      "cell_type": "code",
      "metadata": {
        "id": "VJzN6-B8TB5Q",
        "outputId": "aa9db8ba-eeea-4076-f730-5a775d8f2750",
        "colab": {
          "base_uri": "https://localhost:8080/"
        }
      },
      "source": [
        "mean_absolute_error_linear_model_custom = mean_absolute_error(test_values, clr_pred) \n",
        "mean_squared_error_linear_model_custom = mean_squared_error(test_values, clr_pred)\n",
        "print('MAE: ', mean_absolute_error_linear_model_custom)\n",
        "print('MSE: ',mean_squared_error_linear_model_custom)"
      ],
      "execution_count": 104,
      "outputs": [
        {
          "output_type": "stream",
          "name": "stdout",
          "text": [
            "MAE:  125238.67302458607\n",
            "MSE:  41722710550.296005\n"
          ]
        }
      ]
    },
    {
      "cell_type": "markdown",
      "metadata": {
        "id": "yvsElUo7Lqc2"
      },
      "source": [
        "Теперь напечатаем полученные ошибки. Обычно смотрят на корень из среднеквадратичной ошибки, RMSE. Чтобы извлечь корень нам понадобится библиотека **Numpy**. С помощью неё можно быстро производить вычисления сразу над массивами чисел."
      ]
    },
    {
      "cell_type": "code",
      "metadata": {
        "id": "l7HJyQrpTjAO"
      },
      "source": [
        "print('RMSE:', np.sqrt(mean_squared_error_linear_model))\n",
        "print('RMSE (custom):', np.sqrt(mean_squared_error_linear_model_custom))"
      ],
      "execution_count": null,
      "outputs": []
    },
    {
      "cell_type": "markdown",
      "metadata": {
        "id": "RQS6gBO1Lqc5"
      },
      "source": [
        "## 6. Выявление важных признаков"
      ]
    },
    {
      "cell_type": "markdown",
      "metadata": {
        "id": "NCvDudjKLqc6"
      },
      "source": [
        "Признаки, используемые для обучения модели, оказывают большое влияние на качество результатов. Неинформативные или слабо информативные признаки могут снизить качество модели, использование избыточных признаков в модели замедляет скорость ее работы.\n",
        "\n",
        "Для того, чтобы отобрать признаки нам следует ответить на следующие вопросы: \n",
        "\n",
        "    1. Все ли признаки в наших данных заполненны разумными значениями?\n",
        "    2. Какие признаки будут больше всего влиять на значение целевой переменной?\n",
        "    3. Какие дополнительные признаки имело бы смысл добавить в список входных?"
      ]
    },
    {
      "cell_type": "markdown",
      "metadata": {
        "id": "QlM7skwULqc7"
      },
      "source": [
        "**6.1. Разглядывание значений признаков**\n",
        "\n",
        "Для того чтобы ответить на первый вопрос, нам необходимо получить некоторую нашу экспертную оценку данных. В наших данных нет пропусков, однако иногда пропуски предварительно заполняют другими значениями (0, 999 и другие) и их можно увидеть, только внимательно посмотрев на данные. \n",
        "\n",
        "Для того, чтобы это сделать, нужно вызвать у переменной *training_points* метод **head(10)**, который выводит первые 10 строк таблицы."
      ]
    },
    {
      "cell_type": "code",
      "metadata": {
        "id": "RF5s50mpLqc9",
        "colab": {
          "base_uri": "https://localhost:8080/",
          "height": 413
        },
        "outputId": "c0570a01-fc2a-4332-c094-5d45cf11e63d"
      },
      "source": [
        "training_points.head(10)"
      ],
      "execution_count": 86,
      "outputs": [
        {
          "output_type": "execute_result",
          "data": {
            "text/html": [
              "<div>\n",
              "<style scoped>\n",
              "    .dataframe tbody tr th:only-of-type {\n",
              "        vertical-align: middle;\n",
              "    }\n",
              "\n",
              "    .dataframe tbody tr th {\n",
              "        vertical-align: top;\n",
              "    }\n",
              "\n",
              "    .dataframe thead th {\n",
              "        text-align: right;\n",
              "    }\n",
              "</style>\n",
              "<table border=\"1\" class=\"dataframe\">\n",
              "  <thead>\n",
              "    <tr style=\"text-align: right;\">\n",
              "      <th></th>\n",
              "      <th>Спальни</th>\n",
              "      <th>Ванные</th>\n",
              "      <th>Жилая площадь</th>\n",
              "      <th>Общая площадь</th>\n",
              "      <th>Количество этажей</th>\n",
              "      <th>Вид на воду</th>\n",
              "      <th>Просмотрены ранее</th>\n",
              "      <th>Состояние</th>\n",
              "      <th>Оценка риелтора</th>\n",
              "      <th>Площадь без подвала</th>\n",
              "      <th>Площадь подвала</th>\n",
              "      <th>Год постройки</th>\n",
              "      <th>Год реновации</th>\n",
              "      <th>Широта</th>\n",
              "      <th>Долгота</th>\n",
              "    </tr>\n",
              "  </thead>\n",
              "  <tbody>\n",
              "    <tr>\n",
              "      <th>0</th>\n",
              "      <td>5</td>\n",
              "      <td>3.50</td>\n",
              "      <td>3490</td>\n",
              "      <td>21780</td>\n",
              "      <td>2.0</td>\n",
              "      <td>0</td>\n",
              "      <td>0</td>\n",
              "      <td>3</td>\n",
              "      <td>8</td>\n",
              "      <td>3490</td>\n",
              "      <td>0</td>\n",
              "      <td>1996</td>\n",
              "      <td>0</td>\n",
              "      <td>47.6707</td>\n",
              "      <td>-122.144</td>\n",
              "    </tr>\n",
              "    <tr>\n",
              "      <th>1</th>\n",
              "      <td>4</td>\n",
              "      <td>1.75</td>\n",
              "      <td>2360</td>\n",
              "      <td>7620</td>\n",
              "      <td>1.0</td>\n",
              "      <td>0</td>\n",
              "      <td>0</td>\n",
              "      <td>4</td>\n",
              "      <td>7</td>\n",
              "      <td>1180</td>\n",
              "      <td>1180</td>\n",
              "      <td>1955</td>\n",
              "      <td>0</td>\n",
              "      <td>47.5278</td>\n",
              "      <td>-122.345</td>\n",
              "    </tr>\n",
              "    <tr>\n",
              "      <th>2</th>\n",
              "      <td>6</td>\n",
              "      <td>2.75</td>\n",
              "      <td>2040</td>\n",
              "      <td>8560</td>\n",
              "      <td>1.0</td>\n",
              "      <td>0</td>\n",
              "      <td>2</td>\n",
              "      <td>4</td>\n",
              "      <td>7</td>\n",
              "      <td>1100</td>\n",
              "      <td>940</td>\n",
              "      <td>1961</td>\n",
              "      <td>0</td>\n",
              "      <td>47.6160</td>\n",
              "      <td>-122.115</td>\n",
              "    </tr>\n",
              "    <tr>\n",
              "      <th>3</th>\n",
              "      <td>3</td>\n",
              "      <td>1.75</td>\n",
              "      <td>1940</td>\n",
              "      <td>8376</td>\n",
              "      <td>1.0</td>\n",
              "      <td>0</td>\n",
              "      <td>0</td>\n",
              "      <td>4</td>\n",
              "      <td>8</td>\n",
              "      <td>1290</td>\n",
              "      <td>650</td>\n",
              "      <td>1963</td>\n",
              "      <td>0</td>\n",
              "      <td>47.5586</td>\n",
              "      <td>-122.173</td>\n",
              "    </tr>\n",
              "    <tr>\n",
              "      <th>4</th>\n",
              "      <td>3</td>\n",
              "      <td>2.75</td>\n",
              "      <td>3450</td>\n",
              "      <td>5350</td>\n",
              "      <td>1.5</td>\n",
              "      <td>0</td>\n",
              "      <td>3</td>\n",
              "      <td>4</td>\n",
              "      <td>9</td>\n",
              "      <td>2590</td>\n",
              "      <td>860</td>\n",
              "      <td>1925</td>\n",
              "      <td>0</td>\n",
              "      <td>47.6389</td>\n",
              "      <td>-122.407</td>\n",
              "    </tr>\n",
              "    <tr>\n",
              "      <th>5</th>\n",
              "      <td>3</td>\n",
              "      <td>2.25</td>\n",
              "      <td>2300</td>\n",
              "      <td>9914</td>\n",
              "      <td>2.0</td>\n",
              "      <td>0</td>\n",
              "      <td>0</td>\n",
              "      <td>4</td>\n",
              "      <td>8</td>\n",
              "      <td>2300</td>\n",
              "      <td>0</td>\n",
              "      <td>1980</td>\n",
              "      <td>0</td>\n",
              "      <td>47.5677</td>\n",
              "      <td>-122.086</td>\n",
              "    </tr>\n",
              "    <tr>\n",
              "      <th>6</th>\n",
              "      <td>3</td>\n",
              "      <td>2.50</td>\n",
              "      <td>2770</td>\n",
              "      <td>8820</td>\n",
              "      <td>1.0</td>\n",
              "      <td>0</td>\n",
              "      <td>0</td>\n",
              "      <td>3</td>\n",
              "      <td>7</td>\n",
              "      <td>1900</td>\n",
              "      <td>870</td>\n",
              "      <td>1980</td>\n",
              "      <td>2004</td>\n",
              "      <td>47.3685</td>\n",
              "      <td>-122.048</td>\n",
              "    </tr>\n",
              "    <tr>\n",
              "      <th>7</th>\n",
              "      <td>2</td>\n",
              "      <td>1.75</td>\n",
              "      <td>1650</td>\n",
              "      <td>7500</td>\n",
              "      <td>1.0</td>\n",
              "      <td>0</td>\n",
              "      <td>0</td>\n",
              "      <td>4</td>\n",
              "      <td>7</td>\n",
              "      <td>1000</td>\n",
              "      <td>650</td>\n",
              "      <td>1959</td>\n",
              "      <td>0</td>\n",
              "      <td>47.6871</td>\n",
              "      <td>-122.207</td>\n",
              "    </tr>\n",
              "    <tr>\n",
              "      <th>8</th>\n",
              "      <td>1</td>\n",
              "      <td>1.00</td>\n",
              "      <td>580</td>\n",
              "      <td>1799</td>\n",
              "      <td>1.0</td>\n",
              "      <td>0</td>\n",
              "      <td>0</td>\n",
              "      <td>3</td>\n",
              "      <td>7</td>\n",
              "      <td>580</td>\n",
              "      <td>0</td>\n",
              "      <td>1908</td>\n",
              "      <td>2005</td>\n",
              "      <td>47.6829</td>\n",
              "      <td>-122.375</td>\n",
              "    </tr>\n",
              "    <tr>\n",
              "      <th>9</th>\n",
              "      <td>2</td>\n",
              "      <td>1.00</td>\n",
              "      <td>900</td>\n",
              "      <td>3400</td>\n",
              "      <td>1.0</td>\n",
              "      <td>0</td>\n",
              "      <td>0</td>\n",
              "      <td>5</td>\n",
              "      <td>6</td>\n",
              "      <td>900</td>\n",
              "      <td>0</td>\n",
              "      <td>1905</td>\n",
              "      <td>0</td>\n",
              "      <td>47.5269</td>\n",
              "      <td>-122.314</td>\n",
              "    </tr>\n",
              "  </tbody>\n",
              "</table>\n",
              "</div>"
            ],
            "text/plain": [
              "   Спальни  Ванные  Жилая площадь  ...  Год реновации   Широта  Долгота\n",
              "0        5    3.50           3490  ...              0  47.6707 -122.144\n",
              "1        4    1.75           2360  ...              0  47.5278 -122.345\n",
              "2        6    2.75           2040  ...              0  47.6160 -122.115\n",
              "3        3    1.75           1940  ...              0  47.5586 -122.173\n",
              "4        3    2.75           3450  ...              0  47.6389 -122.407\n",
              "5        3    2.25           2300  ...              0  47.5677 -122.086\n",
              "6        3    2.50           2770  ...           2004  47.3685 -122.048\n",
              "7        2    1.75           1650  ...              0  47.6871 -122.207\n",
              "8        1    1.00            580  ...           2005  47.6829 -122.375\n",
              "9        2    1.00            900  ...              0  47.5269 -122.314\n",
              "\n",
              "[10 rows x 15 columns]"
            ]
          },
          "metadata": {},
          "execution_count": 86
        }
      ]
    },
    {
      "cell_type": "markdown",
      "metadata": {
        "id": "g-MGwOMxLqdG"
      },
      "source": [
        "Рассмотрим столбец \"Год реновации\". Он содержит много нулей и мало реальных данных о годах, что как раз свидетельствует о том, что в этих данных изначально были пропуски, а к нам они попали уже заполненные нулями. \n",
        "\n",
        "Мы можем посмотреть количество уникальных значений и сколько раз эти значения встречаются в этом столбце. Для этого вызываем метод **value_counts()** у нашего столбца *training_points['Год реновации']*"
      ]
    },
    {
      "cell_type": "code",
      "metadata": {
        "scrolled": true,
        "id": "vZhcfLFXLqdJ",
        "colab": {
          "base_uri": "https://localhost:8080/"
        },
        "outputId": "4b2a34d0-28f9-4e38-9902-2b3dfa686080"
      },
      "source": [
        "training_points['Год реновации'].value_counts()"
      ],
      "execution_count": 87,
      "outputs": [
        {
          "output_type": "execute_result",
          "data": {
            "text/plain": [
              "0       14490\n",
              "2014       63\n",
              "2013       31\n",
              "2000       28\n",
              "2003       24\n",
              "        ...  \n",
              "1959        1\n",
              "1948        1\n",
              "1954        1\n",
              "1962        1\n",
              "1955        1\n",
              "Name: Год реновации, Length: 67, dtype: int64"
            ]
          },
          "metadata": {},
          "execution_count": 87
        }
      ]
    },
    {
      "cell_type": "markdown",
      "metadata": {
        "id": "DnPPjFtGLqdL"
      },
      "source": [
        "Как видно, нулей существенно больше (14490), чем любых других значений (639), поэтому можем сделать вывод, что этот признак не информативен и может негативно повлиять на качество модели."
      ]
    },
    {
      "cell_type": "markdown",
      "metadata": {
        "id": "7kYhqu9ELqdM"
      },
      "source": [
        "**6.2. Какие признаки самые важные**\n",
        "\n",
        "Ручной перебор признаков невозможен, если их тысячи, кроме того, часто даже эксперты не могут сказать, использование каких признаков в модели даст прирост качества.\n",
        "Кроме ручного перебора всех признаков и их визуального анализа, можно использовать оценку значимости признаков с помощью обученных моделей. "
      ]
    },
    {
      "cell_type": "markdown",
      "metadata": {
        "id": "xMlw49Lxj1Ne"
      },
      "source": [
        "## Задание 3.7 "
      ]
    },
    {
      "cell_type": "code",
      "metadata": {
        "id": "TSzXSHgfLqdN"
      },
      "source": [
        "## введите свой код\n",
        "## напишите код, который вычисляет значимость признака (фактически это просто вес по модулю)"
      ],
      "execution_count": 88,
      "outputs": []
    },
    {
      "cell_type": "markdown",
      "metadata": {
        "id": "zyK1fI42LqdT"
      },
      "source": [
        "Представьте полученные результаты в более удобном табличном виде. Создайте пустую таблицу *feature_importance* с двумя колонками \"Название признака\", \"Важность признака\". Для этого воспользуемся функцией **DataFrame()** из библиотеки pandas и передадим ей в качестве аргумента   \n",
        "*columns = [\"Название признака\", \"Важность признака\"]*"
      ]
    },
    {
      "cell_type": "code",
      "metadata": {
        "id": "H2a9uu6YLqdT"
      },
      "source": [
        "feature_importance = pd.DataFrame(columns = ['Название признака', 'Важность признака'])\n",
        "feature_importance['Название признака'] = training_points.columns\n",
        "feature_importance['Важность признака'] = np.abs(linear_regression_model.coef_)"
      ],
      "execution_count": 107,
      "outputs": []
    },
    {
      "cell_type": "markdown",
      "metadata": {
        "id": "2L5zngrOLqdX"
      },
      "source": [
        "Заполните соответствующие колонки значениями, которые мы получили выше. "
      ]
    },
    {
      "cell_type": "code",
      "metadata": {
        "id": "gb3TXJEbLqdZ",
        "colab": {
          "base_uri": "https://localhost:8080/",
          "height": 514
        },
        "outputId": "cc6d293d-8248-4de3-dc9a-38855b463cce"
      },
      "source": [
        "# выведите полученную таблицу\n",
        "feature_importance"
      ],
      "execution_count": 108,
      "outputs": [
        {
          "output_type": "execute_result",
          "data": {
            "text/html": [
              "<div>\n",
              "<style scoped>\n",
              "    .dataframe tbody tr th:only-of-type {\n",
              "        vertical-align: middle;\n",
              "    }\n",
              "\n",
              "    .dataframe tbody tr th {\n",
              "        vertical-align: top;\n",
              "    }\n",
              "\n",
              "    .dataframe thead th {\n",
              "        text-align: right;\n",
              "    }\n",
              "</style>\n",
              "<table border=\"1\" class=\"dataframe\">\n",
              "  <thead>\n",
              "    <tr style=\"text-align: right;\">\n",
              "      <th></th>\n",
              "      <th>Название признака</th>\n",
              "      <th>Важность признака</th>\n",
              "    </tr>\n",
              "  </thead>\n",
              "  <tbody>\n",
              "    <tr>\n",
              "      <th>0</th>\n",
              "      <td>Спальни</td>\n",
              "      <td>31500.701385</td>\n",
              "    </tr>\n",
              "    <tr>\n",
              "      <th>1</th>\n",
              "      <td>Ванные</td>\n",
              "      <td>33055.646855</td>\n",
              "    </tr>\n",
              "    <tr>\n",
              "      <th>2</th>\n",
              "      <td>Жилая площадь</td>\n",
              "      <td>86664.293134</td>\n",
              "    </tr>\n",
              "    <tr>\n",
              "      <th>3</th>\n",
              "      <td>Общая площадь</td>\n",
              "      <td>1833.612532</td>\n",
              "    </tr>\n",
              "    <tr>\n",
              "      <th>4</th>\n",
              "      <td>Количество этажей</td>\n",
              "      <td>3416.528174</td>\n",
              "    </tr>\n",
              "    <tr>\n",
              "      <th>5</th>\n",
              "      <td>Вид на воду</td>\n",
              "      <td>50962.118212</td>\n",
              "    </tr>\n",
              "    <tr>\n",
              "      <th>6</th>\n",
              "      <td>Просмотрены ранее</td>\n",
              "      <td>38203.271673</td>\n",
              "    </tr>\n",
              "    <tr>\n",
              "      <th>7</th>\n",
              "      <td>Состояние</td>\n",
              "      <td>20957.700655</td>\n",
              "    </tr>\n",
              "    <tr>\n",
              "      <th>8</th>\n",
              "      <td>Оценка риелтора</td>\n",
              "      <td>116577.366181</td>\n",
              "    </tr>\n",
              "    <tr>\n",
              "      <th>9</th>\n",
              "      <td>Площадь без подвала</td>\n",
              "      <td>82691.723728</td>\n",
              "    </tr>\n",
              "    <tr>\n",
              "      <th>10</th>\n",
              "      <td>Площадь подвала</td>\n",
              "      <td>24394.133310</td>\n",
              "    </tr>\n",
              "    <tr>\n",
              "      <th>11</th>\n",
              "      <td>Год постройки</td>\n",
              "      <td>71827.278259</td>\n",
              "    </tr>\n",
              "    <tr>\n",
              "      <th>12</th>\n",
              "      <td>Год реновации</td>\n",
              "      <td>9864.899235</td>\n",
              "    </tr>\n",
              "    <tr>\n",
              "      <th>13</th>\n",
              "      <td>Широта</td>\n",
              "      <td>79047.942776</td>\n",
              "    </tr>\n",
              "    <tr>\n",
              "      <th>14</th>\n",
              "      <td>Долгота</td>\n",
              "      <td>15305.421807</td>\n",
              "    </tr>\n",
              "  </tbody>\n",
              "</table>\n",
              "</div>"
            ],
            "text/plain": [
              "      Название признака  Важность признака\n",
              "0               Спальни       31500.701385\n",
              "1                Ванные       33055.646855\n",
              "2         Жилая площадь       86664.293134\n",
              "3         Общая площадь        1833.612532\n",
              "4     Количество этажей        3416.528174\n",
              "5           Вид на воду       50962.118212\n",
              "6     Просмотрены ранее       38203.271673\n",
              "7             Состояние       20957.700655\n",
              "8       Оценка риелтора      116577.366181\n",
              "9   Площадь без подвала       82691.723728\n",
              "10      Площадь подвала       24394.133310\n",
              "11        Год постройки       71827.278259\n",
              "12        Год реновации        9864.899235\n",
              "13               Широта       79047.942776\n",
              "14              Долгота       15305.421807"
            ]
          },
          "metadata": {},
          "execution_count": 108
        }
      ]
    },
    {
      "cell_type": "markdown",
      "metadata": {
        "id": "HCqhWnNtLqdb"
      },
      "source": [
        "Мы можем отсортировать значения по важности, вызвав у *feature_importance* метод **sort_values()**.\n",
        "\n",
        "Обратите внимание, что в данном случае мы передаем два аргумента:\n",
        "\n",
        "1. by='Важность признака' - название столбца, по которому мы сортируем\n",
        "2. ascending=False - означает, что мы сортируем по убиыванию, а в случае ascending=True сортировка будет по возростанию"
      ]
    },
    {
      "cell_type": "code",
      "metadata": {
        "id": "uAOXjcAxLqdb",
        "colab": {
          "base_uri": "https://localhost:8080/",
          "height": 514
        },
        "outputId": "5ddc9866-3dbc-4068-c19e-df2574b0227c"
      },
      "source": [
        "feature_importance.sort_values(by='Важность признака', ascending=False)"
      ],
      "execution_count": 109,
      "outputs": [
        {
          "output_type": "execute_result",
          "data": {
            "text/html": [
              "<div>\n",
              "<style scoped>\n",
              "    .dataframe tbody tr th:only-of-type {\n",
              "        vertical-align: middle;\n",
              "    }\n",
              "\n",
              "    .dataframe tbody tr th {\n",
              "        vertical-align: top;\n",
              "    }\n",
              "\n",
              "    .dataframe thead th {\n",
              "        text-align: right;\n",
              "    }\n",
              "</style>\n",
              "<table border=\"1\" class=\"dataframe\">\n",
              "  <thead>\n",
              "    <tr style=\"text-align: right;\">\n",
              "      <th></th>\n",
              "      <th>Название признака</th>\n",
              "      <th>Важность признака</th>\n",
              "    </tr>\n",
              "  </thead>\n",
              "  <tbody>\n",
              "    <tr>\n",
              "      <th>8</th>\n",
              "      <td>Оценка риелтора</td>\n",
              "      <td>116577.366181</td>\n",
              "    </tr>\n",
              "    <tr>\n",
              "      <th>2</th>\n",
              "      <td>Жилая площадь</td>\n",
              "      <td>86664.293134</td>\n",
              "    </tr>\n",
              "    <tr>\n",
              "      <th>9</th>\n",
              "      <td>Площадь без подвала</td>\n",
              "      <td>82691.723728</td>\n",
              "    </tr>\n",
              "    <tr>\n",
              "      <th>13</th>\n",
              "      <td>Широта</td>\n",
              "      <td>79047.942776</td>\n",
              "    </tr>\n",
              "    <tr>\n",
              "      <th>11</th>\n",
              "      <td>Год постройки</td>\n",
              "      <td>71827.278259</td>\n",
              "    </tr>\n",
              "    <tr>\n",
              "      <th>5</th>\n",
              "      <td>Вид на воду</td>\n",
              "      <td>50962.118212</td>\n",
              "    </tr>\n",
              "    <tr>\n",
              "      <th>6</th>\n",
              "      <td>Просмотрены ранее</td>\n",
              "      <td>38203.271673</td>\n",
              "    </tr>\n",
              "    <tr>\n",
              "      <th>1</th>\n",
              "      <td>Ванные</td>\n",
              "      <td>33055.646855</td>\n",
              "    </tr>\n",
              "    <tr>\n",
              "      <th>0</th>\n",
              "      <td>Спальни</td>\n",
              "      <td>31500.701385</td>\n",
              "    </tr>\n",
              "    <tr>\n",
              "      <th>10</th>\n",
              "      <td>Площадь подвала</td>\n",
              "      <td>24394.133310</td>\n",
              "    </tr>\n",
              "    <tr>\n",
              "      <th>7</th>\n",
              "      <td>Состояние</td>\n",
              "      <td>20957.700655</td>\n",
              "    </tr>\n",
              "    <tr>\n",
              "      <th>14</th>\n",
              "      <td>Долгота</td>\n",
              "      <td>15305.421807</td>\n",
              "    </tr>\n",
              "    <tr>\n",
              "      <th>12</th>\n",
              "      <td>Год реновации</td>\n",
              "      <td>9864.899235</td>\n",
              "    </tr>\n",
              "    <tr>\n",
              "      <th>4</th>\n",
              "      <td>Количество этажей</td>\n",
              "      <td>3416.528174</td>\n",
              "    </tr>\n",
              "    <tr>\n",
              "      <th>3</th>\n",
              "      <td>Общая площадь</td>\n",
              "      <td>1833.612532</td>\n",
              "    </tr>\n",
              "  </tbody>\n",
              "</table>\n",
              "</div>"
            ],
            "text/plain": [
              "      Название признака  Важность признака\n",
              "8       Оценка риелтора      116577.366181\n",
              "2         Жилая площадь       86664.293134\n",
              "9   Площадь без подвала       82691.723728\n",
              "13               Широта       79047.942776\n",
              "11        Год постройки       71827.278259\n",
              "5           Вид на воду       50962.118212\n",
              "6     Просмотрены ранее       38203.271673\n",
              "1                Ванные       33055.646855\n",
              "0               Спальни       31500.701385\n",
              "10      Площадь подвала       24394.133310\n",
              "7             Состояние       20957.700655\n",
              "14              Долгота       15305.421807\n",
              "12        Год реновации        9864.899235\n",
              "4     Количество этажей        3416.528174\n",
              "3         Общая площадь        1833.612532"
            ]
          },
          "metadata": {},
          "execution_count": 109
        }
      ]
    },
    {
      "cell_type": "markdown",
      "metadata": {
        "id": "y1W41te9H0CG"
      },
      "source": [
        "## Задание 3.8. \n",
        "\n",
        "Напомню исходную постановку задачи. Мы говорили о том, что оценка цены на недвижимость может быть нужна для выявления аномально низких цен на объект недвижимости. Давайте попробуем найти такие в датасете."
      ]
    },
    {
      "cell_type": "code",
      "metadata": {
        "id": "kujfr7ITUh4p",
        "outputId": "84e9b03b-a829-4f87-8a2f-34121bf0385f",
        "colab": {
          "base_uri": "https://localhost:8080/",
          "height": 413
        }
      },
      "source": [
        "average_deviation = mean_absolute_error_linear_model / training_points.shape[0]\n",
        "test_data['diff'] = test_values - linear_regression_model.predict(test_points)\n",
        "\n",
        "\n",
        "less_av_mask = test_data['diff'] < 0\n",
        "test_data[less_av_mask].sort_values(by='diff', ascending=True).head(10)"
      ],
      "execution_count": 110,
      "outputs": [
        {
          "output_type": "execute_result",
          "data": {
            "text/html": [
              "<div>\n",
              "<style scoped>\n",
              "    .dataframe tbody tr th:only-of-type {\n",
              "        vertical-align: middle;\n",
              "    }\n",
              "\n",
              "    .dataframe tbody tr th {\n",
              "        vertical-align: top;\n",
              "    }\n",
              "\n",
              "    .dataframe thead th {\n",
              "        text-align: right;\n",
              "    }\n",
              "</style>\n",
              "<table border=\"1\" class=\"dataframe\">\n",
              "  <thead>\n",
              "    <tr style=\"text-align: right;\">\n",
              "      <th></th>\n",
              "      <th>Целевая.Цена</th>\n",
              "      <th>Спальни</th>\n",
              "      <th>Ванные</th>\n",
              "      <th>Жилая площадь</th>\n",
              "      <th>Общая площадь</th>\n",
              "      <th>Количество этажей</th>\n",
              "      <th>Вид на воду</th>\n",
              "      <th>Просмотрены ранее</th>\n",
              "      <th>Состояние</th>\n",
              "      <th>Оценка риелтора</th>\n",
              "      <th>Площадь без подвала</th>\n",
              "      <th>Площадь подвала</th>\n",
              "      <th>Год постройки</th>\n",
              "      <th>Год реновации</th>\n",
              "      <th>Широта</th>\n",
              "      <th>Долгота</th>\n",
              "      <th>diff</th>\n",
              "    </tr>\n",
              "  </thead>\n",
              "  <tbody>\n",
              "    <tr>\n",
              "      <th>1032</th>\n",
              "      <td>2280000</td>\n",
              "      <td>7</td>\n",
              "      <td>8.00</td>\n",
              "      <td>13540</td>\n",
              "      <td>307752</td>\n",
              "      <td>3.0</td>\n",
              "      <td>0</td>\n",
              "      <td>4</td>\n",
              "      <td>3</td>\n",
              "      <td>12</td>\n",
              "      <td>9410</td>\n",
              "      <td>4130</td>\n",
              "      <td>1999</td>\n",
              "      <td>0</td>\n",
              "      <td>47.6675</td>\n",
              "      <td>-121.986</td>\n",
              "      <td>-1.349973e+09</td>\n",
              "    </tr>\n",
              "    <tr>\n",
              "      <th>5019</th>\n",
              "      <td>2420000</td>\n",
              "      <td>5</td>\n",
              "      <td>4.75</td>\n",
              "      <td>7880</td>\n",
              "      <td>24250</td>\n",
              "      <td>2.0</td>\n",
              "      <td>0</td>\n",
              "      <td>2</td>\n",
              "      <td>3</td>\n",
              "      <td>13</td>\n",
              "      <td>7880</td>\n",
              "      <td>0</td>\n",
              "      <td>1996</td>\n",
              "      <td>0</td>\n",
              "      <td>47.7334</td>\n",
              "      <td>-122.362</td>\n",
              "      <td>-1.152105e+09</td>\n",
              "    </tr>\n",
              "    <tr>\n",
              "      <th>5627</th>\n",
              "      <td>5350000</td>\n",
              "      <td>5</td>\n",
              "      <td>5.00</td>\n",
              "      <td>8000</td>\n",
              "      <td>23985</td>\n",
              "      <td>2.0</td>\n",
              "      <td>0</td>\n",
              "      <td>4</td>\n",
              "      <td>3</td>\n",
              "      <td>12</td>\n",
              "      <td>6720</td>\n",
              "      <td>1280</td>\n",
              "      <td>2009</td>\n",
              "      <td>0</td>\n",
              "      <td>47.6232</td>\n",
              "      <td>-122.220</td>\n",
              "      <td>-1.094387e+09</td>\n",
              "    </tr>\n",
              "    <tr>\n",
              "      <th>744</th>\n",
              "      <td>2890000</td>\n",
              "      <td>5</td>\n",
              "      <td>6.25</td>\n",
              "      <td>8670</td>\n",
              "      <td>64033</td>\n",
              "      <td>2.0</td>\n",
              "      <td>0</td>\n",
              "      <td>4</td>\n",
              "      <td>3</td>\n",
              "      <td>13</td>\n",
              "      <td>6120</td>\n",
              "      <td>2550</td>\n",
              "      <td>1965</td>\n",
              "      <td>2003</td>\n",
              "      <td>47.7295</td>\n",
              "      <td>-122.372</td>\n",
              "      <td>-1.085933e+09</td>\n",
              "    </tr>\n",
              "    <tr>\n",
              "      <th>2295</th>\n",
              "      <td>3300000</td>\n",
              "      <td>8</td>\n",
              "      <td>4.00</td>\n",
              "      <td>7710</td>\n",
              "      <td>11750</td>\n",
              "      <td>3.5</td>\n",
              "      <td>0</td>\n",
              "      <td>0</td>\n",
              "      <td>5</td>\n",
              "      <td>12</td>\n",
              "      <td>6090</td>\n",
              "      <td>1620</td>\n",
              "      <td>1904</td>\n",
              "      <td>0</td>\n",
              "      <td>47.6263</td>\n",
              "      <td>-122.314</td>\n",
              "      <td>-1.057236e+09</td>\n",
              "    </tr>\n",
              "    <tr>\n",
              "      <th>5462</th>\n",
              "      <td>5110000</td>\n",
              "      <td>5</td>\n",
              "      <td>5.25</td>\n",
              "      <td>8010</td>\n",
              "      <td>45517</td>\n",
              "      <td>2.0</td>\n",
              "      <td>1</td>\n",
              "      <td>4</td>\n",
              "      <td>3</td>\n",
              "      <td>12</td>\n",
              "      <td>5990</td>\n",
              "      <td>2020</td>\n",
              "      <td>1999</td>\n",
              "      <td>0</td>\n",
              "      <td>47.6767</td>\n",
              "      <td>-122.211</td>\n",
              "      <td>-1.014480e+09</td>\n",
              "    </tr>\n",
              "    <tr>\n",
              "      <th>6350</th>\n",
              "      <td>1680000</td>\n",
              "      <td>4</td>\n",
              "      <td>3.75</td>\n",
              "      <td>7620</td>\n",
              "      <td>29536</td>\n",
              "      <td>2.0</td>\n",
              "      <td>0</td>\n",
              "      <td>3</td>\n",
              "      <td>3</td>\n",
              "      <td>11</td>\n",
              "      <td>5980</td>\n",
              "      <td>1640</td>\n",
              "      <td>2005</td>\n",
              "      <td>0</td>\n",
              "      <td>47.5571</td>\n",
              "      <td>-122.140</td>\n",
              "      <td>-1.002652e+09</td>\n",
              "    </tr>\n",
              "    <tr>\n",
              "      <th>6248</th>\n",
              "      <td>2480000</td>\n",
              "      <td>5</td>\n",
              "      <td>3.75</td>\n",
              "      <td>6810</td>\n",
              "      <td>7500</td>\n",
              "      <td>2.5</td>\n",
              "      <td>0</td>\n",
              "      <td>0</td>\n",
              "      <td>3</td>\n",
              "      <td>13</td>\n",
              "      <td>6110</td>\n",
              "      <td>700</td>\n",
              "      <td>1922</td>\n",
              "      <td>0</td>\n",
              "      <td>47.6285</td>\n",
              "      <td>-122.322</td>\n",
              "      <td>-9.659343e+08</td>\n",
              "    </tr>\n",
              "    <tr>\n",
              "      <th>4175</th>\n",
              "      <td>4000000</td>\n",
              "      <td>4</td>\n",
              "      <td>5.50</td>\n",
              "      <td>7080</td>\n",
              "      <td>16573</td>\n",
              "      <td>2.0</td>\n",
              "      <td>0</td>\n",
              "      <td>0</td>\n",
              "      <td>3</td>\n",
              "      <td>12</td>\n",
              "      <td>5760</td>\n",
              "      <td>1320</td>\n",
              "      <td>2008</td>\n",
              "      <td>0</td>\n",
              "      <td>47.6151</td>\n",
              "      <td>-122.224</td>\n",
              "      <td>-9.511543e+08</td>\n",
              "    </tr>\n",
              "    <tr>\n",
              "      <th>4838</th>\n",
              "      <td>1110000</td>\n",
              "      <td>5</td>\n",
              "      <td>3.50</td>\n",
              "      <td>7350</td>\n",
              "      <td>12231</td>\n",
              "      <td>2.0</td>\n",
              "      <td>0</td>\n",
              "      <td>4</td>\n",
              "      <td>3</td>\n",
              "      <td>11</td>\n",
              "      <td>4750</td>\n",
              "      <td>2600</td>\n",
              "      <td>2001</td>\n",
              "      <td>0</td>\n",
              "      <td>47.5373</td>\n",
              "      <td>-121.865</td>\n",
              "      <td>-9.335408e+08</td>\n",
              "    </tr>\n",
              "  </tbody>\n",
              "</table>\n",
              "</div>"
            ],
            "text/plain": [
              "      Целевая.Цена  Спальни  Ванные  ...   Широта  Долгота          diff\n",
              "1032       2280000        7    8.00  ...  47.6675 -121.986 -1.349973e+09\n",
              "5019       2420000        5    4.75  ...  47.7334 -122.362 -1.152105e+09\n",
              "5627       5350000        5    5.00  ...  47.6232 -122.220 -1.094387e+09\n",
              "744        2890000        5    6.25  ...  47.7295 -122.372 -1.085933e+09\n",
              "2295       3300000        8    4.00  ...  47.6263 -122.314 -1.057236e+09\n",
              "5462       5110000        5    5.25  ...  47.6767 -122.211 -1.014480e+09\n",
              "6350       1680000        4    3.75  ...  47.5571 -122.140 -1.002652e+09\n",
              "6248       2480000        5    3.75  ...  47.6285 -122.322 -9.659343e+08\n",
              "4175       4000000        4    5.50  ...  47.6151 -122.224 -9.511543e+08\n",
              "4838       1110000        5    3.50  ...  47.5373 -121.865 -9.335408e+08\n",
              "\n",
              "[10 rows x 17 columns]"
            ]
          },
          "metadata": {},
          "execution_count": 110
        }
      ]
    }
  ]
}